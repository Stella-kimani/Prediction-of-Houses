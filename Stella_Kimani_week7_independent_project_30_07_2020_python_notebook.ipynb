{
  "nbformat": 4,
  "nbformat_minor": 0,
  "metadata": {
    "colab": {
      "name": "Stella_Kimani_week7_independent_project_30_07_2020_python_notebook",
      "provenance": [],
      "collapsed_sections": [],
      "authorship_tag": "ABX9TyP0qYdQivpdRYMZd/fz9KpS",
      "include_colab_link": true
    },
    "kernelspec": {
      "name": "python3",
      "display_name": "Python 3"
    }
  },
  "cells": [
    {
      "cell_type": "markdown",
      "metadata": {
        "id": "view-in-github",
        "colab_type": "text"
      },
      "source": [
        "<a href=\"https://colab.research.google.com/github/Stella-kimani/Week-7_IP_Stella/blob/master/Stella_Kimani_week7_independent_project_30_07_2020_python_notebook.ipynb\" target=\"_parent\"><img src=\"https://colab.research.google.com/assets/colab-badge.svg\" alt=\"Open In Colab\"/></a>"
      ]
    },
    {
      "cell_type": "markdown",
      "metadata": {
        "id": "wZNBwbOXGgNy",
        "colab_type": "text"
      },
      "source": [
        "\n",
        "1.Overview\n",
        "\n",
        "Research question\n",
        "\n",
        "Study the factors that affect housing prices, and then create a model that would allow the company to accurately predict the sale of prices given certain predictor variables.\n",
        "\n"
      ]
    },
    {
      "cell_type": "markdown",
      "metadata": {
        "id": "ecphRhqZHCCD",
        "colab_type": "text"
      },
      "source": [
        "2.Metric for success\n",
        "\n",
        "The metric for success will be determined by building models that are optimized from the linear models using Quantile regression,Lasso Regression,Ridge regression and Elastic net regression. "
      ]
    },
    {
      "cell_type": "markdown",
      "metadata": {
        "id": "6hac6dd1MG9C",
        "colab_type": "text"
      },
      "source": [
        "3.Understanding the context\n",
        "\n",
        "As a Data Scientist, you work for Hass Consulting Company which is a real estate leader with over 25 years of experience. You have been tasked to study the factors that affect housing prices using the given information on real estate properties that was collected over the past few months. Later onwards, create a model that would allow the company to accurately predict the sale of prices upon being provided with the predictor variables. \n",
        "\n"
      ]
    },
    {
      "cell_type": "markdown",
      "metadata": {
        "id": "H5XksE_bK3OO",
        "colab_type": "text"
      },
      "source": [
        "\n",
        "\n",
        "4.Recording experimetal design\n",
        "\n",
        "The flow for the assessment:\n",
        "\n",
        "1.Loading the necessary libraries to be used.\n",
        "\n",
        "2.Data cleaning and preparation.Find and deal with outliers, anomalies, and missing data within the dataset.\n",
        "Perform univariate, bivariate and multivariate analysis recording your observations.\n",
        "\n",
        "3.Perform any necessary feature engineering\n",
        "\n",
        "4.Performing regression analysis.\n",
        "Incorporate categorical independent variables into your models.\n",
        "\n",
        "5.Check for multicollinearity\n",
        "\n",
        "6.Create residual plots for my models, and assess heteroskedasticity using Barlett's test.\n",
        "\n",
        "7.Challenge the solution by providing insights on how i can make improvements in model improvement.\n",
        "Types of Regression analysis to use. \n",
        "\n",
        " 1.Multiple Linear Regression\n",
        "\n",
        " 2.Quantile Regression\n",
        "\n",
        " 3.Ridge Regression\n",
        "\n",
        " 4.Lasso Regression\n",
        "\n",
        " 5.Elastic Net Regression\n"
      ]
    },
    {
      "cell_type": "markdown",
      "metadata": {
        "id": "JJYyjumLn6HR",
        "colab_type": "text"
      },
      "source": [
        "This helps us understand the dataset better\n",
        "\n",
        "id : Unique notation for each house sold (primary key of the dataset)\n",
        "\n",
        "date: Date house was sold\n",
        "\n",
        "price: Price of the house (our prediction target)\n",
        "bedrooms: Number of bedrooms\n",
        "bathrooms: Number of bathrooms, where 0.5 accounts for a room with a toilet but no shower\n",
        "\n",
        "sqft_living: Square footage of the home\n",
        "\n",
        "sqft_lot: Square footage of the lot\n",
        "\n",
        "floors :Total floors (levels) in house\n",
        "waterfront :House which has a view to a waterfront\n",
        "view: boolean feature (True (1) if the house has been viewed, False (0) if the house has not been viewed)\n",
        "condition :How good the condition is overall\n",
        "\n",
        "grade: overall grade given to the housing unit, based on King County grading system\n",
        "\n",
        "sqft_above : Square footage of house apart from basement\n",
        "sqft_basement: Square footage of the basement\n",
        "\n",
        "yr_built : year the house was built\n",
        "\n",
        "yr_renovated : Year when the house was renovated\n",
        "\n",
        "zipcode: Zip code\n",
        "\n",
        "lat: Latitude coordinate\n",
        "\n",
        "long: Longitude coordinate\n",
        "\n",
        "sqft_living15 : Living room area in 2015(implies-- some renovations) This might or might not have affected the lotsize area\n",
        "\n",
        "sqft_lot15 : LotSize area in 2015(implies-- some renovations)\n",
        "\n"
      ]
    },
    {
      "cell_type": "markdown",
      "metadata": {
        "id": "ghUEQmntoQJ3",
        "colab_type": "text"
      },
      "source": [
        "External Validation\n",
        "\n",
        "This data is valid and can be found here.\n",
        "\n",
        "This dataset contains house sale prices for King County, which includes Seattle. It includes homes sold between May 2014 and May 2015.\n",
        "\n",
        "https://rdrr.io/cran/moderndive/man/house_prices.html"
      ]
    },
    {
      "cell_type": "markdown",
      "metadata": {
        "id": "KOX8m3DHgh6B",
        "colab_type": "text"
      },
      "source": [
        "#1.Import necessary libraries"
      ]
    },
    {
      "cell_type": "code",
      "metadata": {
        "id": "KtM0dgVXHAhO",
        "colab_type": "code",
        "colab": {}
      },
      "source": [
        "import numpy as np\n",
        "import pandas as pd\n",
        "from sklearn.model_selection import GridSearchCV\n",
        "from sklearn.linear_model import Ridge\n",
        "from sklearn.linear_model import LinearRegression\n",
        "from sklearn.metrics import mean_squared_error\n",
        "!pip install pydataset\n",
        "from pydataset import data\n",
        "import warnings\n",
        "warnings.filterwarnings('ignore')\n",
        "import seaborn as sns\n",
        "import matplotlib.pyplot as plt\n",
        "%matplotlib inline\n",
        "from sklearn import metrics\n",
        "import statsmodels\n",
        "from scipy import stats\n",
        "import statsmodels.api as sm\n",
        "from statsmodels.graphics.gofplots import qqplot\n",
        "from sklearn.preprocessing import StandardScaler\n",
        "import random\n",
        "sns.set()\n"
      ],
      "execution_count": null,
      "outputs": []
    },
    {
      "cell_type": "code",
      "metadata": {
        "id": "j5Hs98NQg7eo",
        "colab_type": "code",
        "colab": {}
      },
      "source": [
        "#Loading the dataset\n",
        "house_df = pd.read_csv('house_data.csv')\n"
      ],
      "execution_count": 3,
      "outputs": []
    },
    {
      "cell_type": "code",
      "metadata": {
        "id": "KIEM3SAPi_lR",
        "colab_type": "code",
        "colab": {
          "base_uri": "https://localhost:8080/",
          "height": 220
        },
        "outputId": "c57b0fe3-043c-4ea8-bfa7-0324191a3d98"
      },
      "source": [
        "#Previewing the first 5 entries\n",
        "house_df.head()"
      ],
      "execution_count": 3,
      "outputs": [
        {
          "output_type": "execute_result",
          "data": {
            "text/html": [
              "<div>\n",
              "<style scoped>\n",
              "    .dataframe tbody tr th:only-of-type {\n",
              "        vertical-align: middle;\n",
              "    }\n",
              "\n",
              "    .dataframe tbody tr th {\n",
              "        vertical-align: top;\n",
              "    }\n",
              "\n",
              "    .dataframe thead th {\n",
              "        text-align: right;\n",
              "    }\n",
              "</style>\n",
              "<table border=\"1\" class=\"dataframe\">\n",
              "  <thead>\n",
              "    <tr style=\"text-align: right;\">\n",
              "      <th></th>\n",
              "      <th>id</th>\n",
              "      <th>price</th>\n",
              "      <th>bedrooms</th>\n",
              "      <th>bathrooms</th>\n",
              "      <th>sqft_living</th>\n",
              "      <th>sqft_lot</th>\n",
              "      <th>floors</th>\n",
              "      <th>waterfront</th>\n",
              "      <th>view</th>\n",
              "      <th>condition</th>\n",
              "      <th>grade</th>\n",
              "      <th>sqft_above</th>\n",
              "      <th>sqft_basement</th>\n",
              "      <th>yr_built</th>\n",
              "      <th>yr_renovated</th>\n",
              "      <th>zipcode</th>\n",
              "      <th>lat</th>\n",
              "      <th>long</th>\n",
              "      <th>sqft_living15</th>\n",
              "      <th>sqft_lot15</th>\n",
              "    </tr>\n",
              "  </thead>\n",
              "  <tbody>\n",
              "    <tr>\n",
              "      <th>0</th>\n",
              "      <td>7129300520</td>\n",
              "      <td>221900.0</td>\n",
              "      <td>3</td>\n",
              "      <td>1.00</td>\n",
              "      <td>1180</td>\n",
              "      <td>5650</td>\n",
              "      <td>1.0</td>\n",
              "      <td>0</td>\n",
              "      <td>0</td>\n",
              "      <td>3</td>\n",
              "      <td>7</td>\n",
              "      <td>1180</td>\n",
              "      <td>0</td>\n",
              "      <td>1955</td>\n",
              "      <td>0</td>\n",
              "      <td>98178</td>\n",
              "      <td>47.5112</td>\n",
              "      <td>-122.257</td>\n",
              "      <td>1340</td>\n",
              "      <td>5650</td>\n",
              "    </tr>\n",
              "    <tr>\n",
              "      <th>1</th>\n",
              "      <td>6414100192</td>\n",
              "      <td>538000.0</td>\n",
              "      <td>3</td>\n",
              "      <td>2.25</td>\n",
              "      <td>2570</td>\n",
              "      <td>7242</td>\n",
              "      <td>2.0</td>\n",
              "      <td>0</td>\n",
              "      <td>0</td>\n",
              "      <td>3</td>\n",
              "      <td>7</td>\n",
              "      <td>2170</td>\n",
              "      <td>400</td>\n",
              "      <td>1951</td>\n",
              "      <td>1991</td>\n",
              "      <td>98125</td>\n",
              "      <td>47.7210</td>\n",
              "      <td>-122.319</td>\n",
              "      <td>1690</td>\n",
              "      <td>7639</td>\n",
              "    </tr>\n",
              "    <tr>\n",
              "      <th>2</th>\n",
              "      <td>5631500400</td>\n",
              "      <td>180000.0</td>\n",
              "      <td>2</td>\n",
              "      <td>1.00</td>\n",
              "      <td>770</td>\n",
              "      <td>10000</td>\n",
              "      <td>1.0</td>\n",
              "      <td>0</td>\n",
              "      <td>0</td>\n",
              "      <td>3</td>\n",
              "      <td>6</td>\n",
              "      <td>770</td>\n",
              "      <td>0</td>\n",
              "      <td>1933</td>\n",
              "      <td>0</td>\n",
              "      <td>98028</td>\n",
              "      <td>47.7379</td>\n",
              "      <td>-122.233</td>\n",
              "      <td>2720</td>\n",
              "      <td>8062</td>\n",
              "    </tr>\n",
              "    <tr>\n",
              "      <th>3</th>\n",
              "      <td>2487200875</td>\n",
              "      <td>604000.0</td>\n",
              "      <td>4</td>\n",
              "      <td>3.00</td>\n",
              "      <td>1960</td>\n",
              "      <td>5000</td>\n",
              "      <td>1.0</td>\n",
              "      <td>0</td>\n",
              "      <td>0</td>\n",
              "      <td>5</td>\n",
              "      <td>7</td>\n",
              "      <td>1050</td>\n",
              "      <td>910</td>\n",
              "      <td>1965</td>\n",
              "      <td>0</td>\n",
              "      <td>98136</td>\n",
              "      <td>47.5208</td>\n",
              "      <td>-122.393</td>\n",
              "      <td>1360</td>\n",
              "      <td>5000</td>\n",
              "    </tr>\n",
              "    <tr>\n",
              "      <th>4</th>\n",
              "      <td>1954400510</td>\n",
              "      <td>510000.0</td>\n",
              "      <td>3</td>\n",
              "      <td>2.00</td>\n",
              "      <td>1680</td>\n",
              "      <td>8080</td>\n",
              "      <td>1.0</td>\n",
              "      <td>0</td>\n",
              "      <td>0</td>\n",
              "      <td>3</td>\n",
              "      <td>8</td>\n",
              "      <td>1680</td>\n",
              "      <td>0</td>\n",
              "      <td>1987</td>\n",
              "      <td>0</td>\n",
              "      <td>98074</td>\n",
              "      <td>47.6168</td>\n",
              "      <td>-122.045</td>\n",
              "      <td>1800</td>\n",
              "      <td>7503</td>\n",
              "    </tr>\n",
              "  </tbody>\n",
              "</table>\n",
              "</div>"
            ],
            "text/plain": [
              "           id     price  bedrooms  ...     long  sqft_living15  sqft_lot15\n",
              "0  7129300520  221900.0         3  ... -122.257           1340        5650\n",
              "1  6414100192  538000.0         3  ... -122.319           1690        7639\n",
              "2  5631500400  180000.0         2  ... -122.233           2720        8062\n",
              "3  2487200875  604000.0         4  ... -122.393           1360        5000\n",
              "4  1954400510  510000.0         3  ... -122.045           1800        7503\n",
              "\n",
              "[5 rows x 20 columns]"
            ]
          },
          "metadata": {
            "tags": []
          },
          "execution_count": 3
        }
      ]
    },
    {
      "cell_type": "code",
      "metadata": {
        "id": "nmYKPeGUjimB",
        "colab_type": "code",
        "colab": {
          "base_uri": "https://localhost:8080/",
          "height": 220
        },
        "outputId": "63a7bbdc-0549-464f-d32c-4238307218ac"
      },
      "source": [
        "#Previewing the bottom of our dataset\n",
        "house_df.tail()"
      ],
      "execution_count": 221,
      "outputs": [
        {
          "output_type": "execute_result",
          "data": {
            "text/html": [
              "<div>\n",
              "<style scoped>\n",
              "    .dataframe tbody tr th:only-of-type {\n",
              "        vertical-align: middle;\n",
              "    }\n",
              "\n",
              "    .dataframe tbody tr th {\n",
              "        vertical-align: top;\n",
              "    }\n",
              "\n",
              "    .dataframe thead th {\n",
              "        text-align: right;\n",
              "    }\n",
              "</style>\n",
              "<table border=\"1\" class=\"dataframe\">\n",
              "  <thead>\n",
              "    <tr style=\"text-align: right;\">\n",
              "      <th></th>\n",
              "      <th>id</th>\n",
              "      <th>price</th>\n",
              "      <th>bedrooms</th>\n",
              "      <th>bathrooms</th>\n",
              "      <th>sqft_living</th>\n",
              "      <th>sqft_lot</th>\n",
              "      <th>floors</th>\n",
              "      <th>waterfront</th>\n",
              "      <th>view</th>\n",
              "      <th>condition</th>\n",
              "      <th>grade</th>\n",
              "      <th>sqft_above</th>\n",
              "      <th>sqft_basement</th>\n",
              "      <th>yr_built</th>\n",
              "      <th>yr_renovated</th>\n",
              "      <th>zipcode</th>\n",
              "      <th>lat</th>\n",
              "      <th>long</th>\n",
              "      <th>sqft_living15</th>\n",
              "      <th>sqft_lot15</th>\n",
              "    </tr>\n",
              "  </thead>\n",
              "  <tbody>\n",
              "    <tr>\n",
              "      <th>21608</th>\n",
              "      <td>263000018</td>\n",
              "      <td>360000.0</td>\n",
              "      <td>3</td>\n",
              "      <td>2.50</td>\n",
              "      <td>1530</td>\n",
              "      <td>1131</td>\n",
              "      <td>3.0</td>\n",
              "      <td>0</td>\n",
              "      <td>0</td>\n",
              "      <td>3</td>\n",
              "      <td>8</td>\n",
              "      <td>1530</td>\n",
              "      <td>0</td>\n",
              "      <td>2009</td>\n",
              "      <td>0</td>\n",
              "      <td>98103</td>\n",
              "      <td>47.6993</td>\n",
              "      <td>-122.346</td>\n",
              "      <td>1530</td>\n",
              "      <td>1509</td>\n",
              "    </tr>\n",
              "    <tr>\n",
              "      <th>21609</th>\n",
              "      <td>6600060120</td>\n",
              "      <td>400000.0</td>\n",
              "      <td>4</td>\n",
              "      <td>2.50</td>\n",
              "      <td>2310</td>\n",
              "      <td>5813</td>\n",
              "      <td>2.0</td>\n",
              "      <td>0</td>\n",
              "      <td>0</td>\n",
              "      <td>3</td>\n",
              "      <td>8</td>\n",
              "      <td>2310</td>\n",
              "      <td>0</td>\n",
              "      <td>2014</td>\n",
              "      <td>0</td>\n",
              "      <td>98146</td>\n",
              "      <td>47.5107</td>\n",
              "      <td>-122.362</td>\n",
              "      <td>1830</td>\n",
              "      <td>7200</td>\n",
              "    </tr>\n",
              "    <tr>\n",
              "      <th>21610</th>\n",
              "      <td>1523300141</td>\n",
              "      <td>402101.0</td>\n",
              "      <td>2</td>\n",
              "      <td>0.75</td>\n",
              "      <td>1020</td>\n",
              "      <td>1350</td>\n",
              "      <td>2.0</td>\n",
              "      <td>0</td>\n",
              "      <td>0</td>\n",
              "      <td>3</td>\n",
              "      <td>7</td>\n",
              "      <td>1020</td>\n",
              "      <td>0</td>\n",
              "      <td>2009</td>\n",
              "      <td>0</td>\n",
              "      <td>98144</td>\n",
              "      <td>47.5944</td>\n",
              "      <td>-122.299</td>\n",
              "      <td>1020</td>\n",
              "      <td>2007</td>\n",
              "    </tr>\n",
              "    <tr>\n",
              "      <th>21611</th>\n",
              "      <td>291310100</td>\n",
              "      <td>400000.0</td>\n",
              "      <td>3</td>\n",
              "      <td>2.50</td>\n",
              "      <td>1600</td>\n",
              "      <td>2388</td>\n",
              "      <td>2.0</td>\n",
              "      <td>0</td>\n",
              "      <td>0</td>\n",
              "      <td>3</td>\n",
              "      <td>8</td>\n",
              "      <td>1600</td>\n",
              "      <td>0</td>\n",
              "      <td>2004</td>\n",
              "      <td>0</td>\n",
              "      <td>98027</td>\n",
              "      <td>47.5345</td>\n",
              "      <td>-122.069</td>\n",
              "      <td>1410</td>\n",
              "      <td>1287</td>\n",
              "    </tr>\n",
              "    <tr>\n",
              "      <th>21612</th>\n",
              "      <td>1523300157</td>\n",
              "      <td>325000.0</td>\n",
              "      <td>2</td>\n",
              "      <td>0.75</td>\n",
              "      <td>1020</td>\n",
              "      <td>1076</td>\n",
              "      <td>2.0</td>\n",
              "      <td>0</td>\n",
              "      <td>0</td>\n",
              "      <td>3</td>\n",
              "      <td>7</td>\n",
              "      <td>1020</td>\n",
              "      <td>0</td>\n",
              "      <td>2008</td>\n",
              "      <td>0</td>\n",
              "      <td>98144</td>\n",
              "      <td>47.5941</td>\n",
              "      <td>-122.299</td>\n",
              "      <td>1020</td>\n",
              "      <td>1357</td>\n",
              "    </tr>\n",
              "  </tbody>\n",
              "</table>\n",
              "</div>"
            ],
            "text/plain": [
              "               id     price  bedrooms  ...     long  sqft_living15  sqft_lot15\n",
              "21608   263000018  360000.0         3  ... -122.346           1530        1509\n",
              "21609  6600060120  400000.0         4  ... -122.362           1830        7200\n",
              "21610  1523300141  402101.0         2  ... -122.299           1020        2007\n",
              "21611   291310100  400000.0         3  ... -122.069           1410        1287\n",
              "21612  1523300157  325000.0         2  ... -122.299           1020        1357\n",
              "\n",
              "[5 rows x 20 columns]"
            ]
          },
          "metadata": {
            "tags": []
          },
          "execution_count": 221
        }
      ]
    },
    {
      "cell_type": "code",
      "metadata": {
        "id": "xG7DjL7jj54O",
        "colab_type": "code",
        "colab": {
          "base_uri": "https://localhost:8080/",
          "height": 35
        },
        "outputId": "e60cb6a7-8ae5-4c92-93e9-23b0116f02fd"
      },
      "source": [
        "#Checking the shape of the data set(rows and columns)\n",
        "house_df.shape"
      ],
      "execution_count": 222,
      "outputs": [
        {
          "output_type": "execute_result",
          "data": {
            "text/plain": [
              "(21613, 20)"
            ]
          },
          "metadata": {
            "tags": []
          },
          "execution_count": 222
        }
      ]
    },
    {
      "cell_type": "markdown",
      "metadata": {
        "id": "lyNnfWFHkHtl",
        "colab_type": "text"
      },
      "source": [
        "There are 21613 rows and 20 columns in the dataset"
      ]
    },
    {
      "cell_type": "code",
      "metadata": {
        "id": "OxH0Cj5RkS6t",
        "colab_type": "code",
        "colab": {
          "base_uri": "https://localhost:8080/",
          "height": 106
        },
        "outputId": "989c6713-827b-46f0-9ca9-231fd1f8954b"
      },
      "source": [
        "# checking the column names of our dataset\n",
        "house_df.columns\n",
        "#This shows the all my 20 columns in the house data dataset"
      ],
      "execution_count": null,
      "outputs": [
        {
          "output_type": "execute_result",
          "data": {
            "text/plain": [
              "Index(['id', 'price', 'bedrooms', 'bathrooms', 'sqft_living', 'sqft_lot',\n",
              "       'floors', 'waterfront', 'view', 'condition', 'grade', 'sqft_above',\n",
              "       'sqft_basement', 'yr_built', 'yr_renovated', 'zipcode', 'lat', 'long',\n",
              "       'sqft_living15', 'sqft_lot15'],\n",
              "      dtype='object')"
            ]
          },
          "metadata": {
            "tags": []
          },
          "execution_count": 20
        }
      ]
    },
    {
      "cell_type": "code",
      "metadata": {
        "id": "PR0GqC_hklzN",
        "colab_type": "code",
        "colab": {
          "base_uri": "https://localhost:8080/",
          "height": 497
        },
        "outputId": "1fb7c082-4a7d-40d5-9697-d4d8884e3877"
      },
      "source": [
        "# Understanding datatypes the dataset\n",
        "house_df.info()"
      ],
      "execution_count": null,
      "outputs": [
        {
          "output_type": "stream",
          "text": [
            "<class 'pandas.core.frame.DataFrame'>\n",
            "Int64Index: 21610 entries, 0 to 21612\n",
            "Data columns (total 20 columns):\n",
            " #   Column         Non-Null Count  Dtype  \n",
            "---  ------         --------------  -----  \n",
            " 0   id             21610 non-null  int64  \n",
            " 1   price          21610 non-null  float64\n",
            " 2   bedrooms       21610 non-null  int64  \n",
            " 3   bathrooms      21610 non-null  float64\n",
            " 4   sqft_living    21610 non-null  int64  \n",
            " 5   sqft_lot       21610 non-null  int64  \n",
            " 6   floors         21610 non-null  float64\n",
            " 7   waterfront     21610 non-null  int64  \n",
            " 8   view           21610 non-null  int64  \n",
            " 9   condition      21610 non-null  int64  \n",
            " 10  grade          21610 non-null  int64  \n",
            " 11  sqft_above     21610 non-null  int64  \n",
            " 12  sqft_basement  21610 non-null  int64  \n",
            " 13  yr_built       21610 non-null  int64  \n",
            " 14  yr_renovated   21610 non-null  int64  \n",
            " 15  zipcode        21610 non-null  int64  \n",
            " 16  lat            21610 non-null  float64\n",
            " 17  long           21610 non-null  float64\n",
            " 18  sqft_living15  21610 non-null  int64  \n",
            " 19  sqft_lot15     21610 non-null  int64  \n",
            "dtypes: float64(5), int64(15)\n",
            "memory usage: 3.5 MB\n"
          ],
          "name": "stdout"
        }
      ]
    },
    {
      "cell_type": "markdown",
      "metadata": {
        "id": "XZJwfNZek3Bs",
        "colab_type": "text"
      },
      "source": [
        "This gives me an overview of the types of datatypes i have. It seems am working with integers and float datatypes"
      ]
    },
    {
      "cell_type": "markdown",
      "metadata": {
        "id": "84QfltpXlNGe",
        "colab_type": "text"
      },
      "source": [
        "#2.Data preparation and cleaning "
      ]
    },
    {
      "cell_type": "code",
      "metadata": {
        "id": "OCITu3Lik2J_",
        "colab_type": "code",
        "colab": {
          "base_uri": "https://localhost:8080/",
          "height": 390
        },
        "outputId": "c491b491-8d64-4a4f-a00b-9061c7d1d3c4"
      },
      "source": [
        "#Looking for null values\n",
        "house_df.isnull().sum()\n",
        "#The dataset has no null values"
      ],
      "execution_count": null,
      "outputs": [
        {
          "output_type": "execute_result",
          "data": {
            "text/plain": [
              "id               0\n",
              "price            0\n",
              "bedrooms         0\n",
              "bathrooms        0\n",
              "sqft_living      0\n",
              "sqft_lot         0\n",
              "floors           0\n",
              "waterfront       0\n",
              "view             0\n",
              "condition        0\n",
              "grade            0\n",
              "sqft_above       0\n",
              "sqft_basement    0\n",
              "yr_built         0\n",
              "yr_renovated     0\n",
              "zipcode          0\n",
              "lat              0\n",
              "long             0\n",
              "sqft_living15    0\n",
              "sqft_lot15       0\n",
              "dtype: int64"
            ]
          },
          "metadata": {
            "tags": []
          },
          "execution_count": 22
        }
      ]
    },
    {
      "cell_type": "code",
      "metadata": {
        "id": "1QthSH_AluVG",
        "colab_type": "code",
        "colab": {
          "base_uri": "https://localhost:8080/",
          "height": 35
        },
        "outputId": "1c378410-5e9d-4778-b69f-fcdb69471adb"
      },
      "source": [
        "# check for duplicates in fifa dataset\n",
        "house_df.duplicated().sum()\n",
        "#My dataset has duplicates."
      ],
      "execution_count": 4,
      "outputs": [
        {
          "output_type": "execute_result",
          "data": {
            "text/plain": [
              "3"
            ]
          },
          "metadata": {
            "tags": []
          },
          "execution_count": 4
        }
      ]
    },
    {
      "cell_type": "code",
      "metadata": {
        "id": "RWaUDl2w13qp",
        "colab_type": "code",
        "colab": {}
      },
      "source": [
        "# Drop the duplicates in house dataset\n",
        "house_df = house_df.drop_duplicates()"
      ],
      "execution_count": 5,
      "outputs": []
    },
    {
      "cell_type": "code",
      "metadata": {
        "id": "nUaA5DwU2LuQ",
        "colab_type": "code",
        "colab": {
          "base_uri": "https://localhost:8080/",
          "height": 35
        },
        "outputId": "362c1fab-ecab-49dc-8b4d-b7ae283ea5aa"
      },
      "source": [
        "#Recheck if duplicates in my dataset have been dropped\n",
        "house_df.duplicated().sum()"
      ],
      "execution_count": 6,
      "outputs": [
        {
          "output_type": "execute_result",
          "data": {
            "text/plain": [
              "0"
            ]
          },
          "metadata": {
            "tags": []
          },
          "execution_count": 6
        }
      ]
    },
    {
      "cell_type": "code",
      "metadata": {
        "id": "n5SbsojJ2eNa",
        "colab_type": "code",
        "colab": {
          "base_uri": "https://localhost:8080/",
          "height": 371
        },
        "outputId": "f4eb6289-77ae-4ddd-c904-c2d3fdff1018"
      },
      "source": [
        "#checking for outliers\n",
        "\n",
        "fig, ((ax1, ax2, ax3, ax4, ax5, ax6, ax7, ax8, ax9, ax10, ax11)) = plt.subplots(1,11, figsize=(20, 5))\n",
        "fig.suptitle('Boxplots for numeric variables')\n",
        "sns.boxplot(house_df['price'], ax=ax1)\n",
        "sns.boxplot(house_df['bedrooms'], ax=ax2)\n",
        "sns.boxplot(house_df['bathrooms'], ax=ax3)\n",
        "sns.boxplot(house_df['sqft_living'], ax=ax4)\n",
        "sns.boxplot(house_df['sqft_lot'], ax=ax5)\n",
        "sns.boxplot(house_df['grade'], ax=ax6)\n",
        "sns.boxplot(house_df['condition'], ax=ax7)\n",
        "sns.boxplot(house_df['sqft_above'], ax=ax8)\n",
        "sns.boxplot(house_df['sqft_basement'], ax=ax9)\n",
        "sns.boxplot(house_df['sqft_living15'], ax=ax10)\n",
        "sns.boxplot(house_df['sqft_lot15'], ax=ax11)\n",
        "\n",
        "\n",
        "plt.show()\n"
      ],
      "execution_count": null,
      "outputs": [
        {
          "output_type": "display_data",
          "data": {
            "image/png": "[encoded data removed]",
            "text/plain": [
              "<Figure size 1440x360 with 11 Axes>"
            ]
          },
          "metadata": {
            "tags": [],
            "needs_background": "light"
          }
        }
      ]
    },
    {
      "cell_type": "markdown",
      "metadata": {
        "id": "wIEKZxUh-MAa",
        "colab_type": "text"
      },
      "source": [
        "There are a number of outliers in the columns,since my model is predictive i will not drop any outlier in the columns."
      ]
    },
    {
      "cell_type": "code",
      "metadata": {
        "id": "bZaym8EoBpob",
        "colab_type": "code",
        "colab": {
          "base_uri": "https://localhost:8080/",
          "height": 390
        },
        "outputId": "3c8eea39-f8db-4d54-f129-d968e299fc89"
      },
      "source": [
        "#Checking whether i have appropriate datatypes\n",
        "house_df.dtypes"
      ],
      "execution_count": 6,
      "outputs": [
        {
          "output_type": "execute_result",
          "data": {
            "text/plain": [
              "id                 int64\n",
              "price            float64\n",
              "bedrooms           int64\n",
              "bathrooms        float64\n",
              "sqft_living        int64\n",
              "sqft_lot           int64\n",
              "floors           float64\n",
              "waterfront         int64\n",
              "view               int64\n",
              "condition          int64\n",
              "grade              int64\n",
              "sqft_above         int64\n",
              "sqft_basement      int64\n",
              "yr_built           int64\n",
              "yr_renovated       int64\n",
              "zipcode            int64\n",
              "lat              float64\n",
              "long             float64\n",
              "sqft_living15      int64\n",
              "sqft_lot15         int64\n",
              "dtype: object"
            ]
          },
          "metadata": {
            "tags": []
          },
          "execution_count": 6
        }
      ]
    },
    {
      "cell_type": "code",
      "metadata": {
        "id": "AaYPUdQph6Jj",
        "colab_type": "code",
        "colab": {}
      },
      "source": [
        "#These columns are unnecessary.\n",
        "house_df = house_df.drop(columns=['id', 'lat', 'long'])"
      ],
      "execution_count": 9,
      "outputs": []
    },
    {
      "cell_type": "markdown",
      "metadata": {
        "id": "eOmJ-nzoDH8V",
        "colab_type": "text"
      },
      "source": [
        "#Exploratory Data Analysis"
      ]
    },
    {
      "cell_type": "code",
      "metadata": {
        "id": "HXi0yWf_CeQH",
        "colab_type": "code",
        "colab": {
          "base_uri": "https://localhost:8080/",
          "height": 311
        },
        "outputId": "bf7ec919-5b98-4098-ddb2-f92cc1a1edf5"
      },
      "source": [
        "#Let me get to understand some statistical summary for my dataframe\n",
        "\n",
        "house_df.describe()"
      ],
      "execution_count": 10,
      "outputs": [
        {
          "output_type": "execute_result",
          "data": {
            "text/html": [
              "<div>\n",
              "<style scoped>\n",
              "    .dataframe tbody tr th:only-of-type {\n",
              "        vertical-align: middle;\n",
              "    }\n",
              "\n",
              "    .dataframe tbody tr th {\n",
              "        vertical-align: top;\n",
              "    }\n",
              "\n",
              "    .dataframe thead th {\n",
              "        text-align: right;\n",
              "    }\n",
              "</style>\n",
              "<table border=\"1\" class=\"dataframe\">\n",
              "  <thead>\n",
              "    <tr style=\"text-align: right;\">\n",
              "      <th></th>\n",
              "      <th>price</th>\n",
              "      <th>bedrooms</th>\n",
              "      <th>bathrooms</th>\n",
              "      <th>sqft_living</th>\n",
              "      <th>sqft_lot</th>\n",
              "      <th>floors</th>\n",
              "      <th>waterfront</th>\n",
              "      <th>view</th>\n",
              "      <th>condition</th>\n",
              "      <th>grade</th>\n",
              "      <th>sqft_above</th>\n",
              "      <th>sqft_basement</th>\n",
              "      <th>yr_built</th>\n",
              "      <th>yr_renovated</th>\n",
              "      <th>zipcode</th>\n",
              "      <th>sqft_living15</th>\n",
              "      <th>sqft_lot15</th>\n",
              "    </tr>\n",
              "  </thead>\n",
              "  <tbody>\n",
              "    <tr>\n",
              "      <th>count</th>\n",
              "      <td>2.161000e+04</td>\n",
              "      <td>21610.000000</td>\n",
              "      <td>21610.000000</td>\n",
              "      <td>21610.000000</td>\n",
              "      <td>2.161000e+04</td>\n",
              "      <td>21610.000000</td>\n",
              "      <td>21610.000000</td>\n",
              "      <td>21610.000000</td>\n",
              "      <td>21610.000000</td>\n",
              "      <td>21610.000000</td>\n",
              "      <td>21610.000000</td>\n",
              "      <td>21610.000000</td>\n",
              "      <td>21610.000000</td>\n",
              "      <td>21610.000000</td>\n",
              "      <td>21610.000000</td>\n",
              "      <td>21610.000000</td>\n",
              "      <td>21610.000000</td>\n",
              "    </tr>\n",
              "    <tr>\n",
              "      <th>mean</th>\n",
              "      <td>5.401789e+05</td>\n",
              "      <td>3.370847</td>\n",
              "      <td>1.749745</td>\n",
              "      <td>2079.881212</td>\n",
              "      <td>1.510829e+04</td>\n",
              "      <td>1.446136</td>\n",
              "      <td>0.007543</td>\n",
              "      <td>0.234197</td>\n",
              "      <td>3.409440</td>\n",
              "      <td>7.656779</td>\n",
              "      <td>1788.347894</td>\n",
              "      <td>291.533318</td>\n",
              "      <td>1971.003609</td>\n",
              "      <td>84.322351</td>\n",
              "      <td>98077.945673</td>\n",
              "      <td>1986.518695</td>\n",
              "      <td>12769.031976</td>\n",
              "    </tr>\n",
              "    <tr>\n",
              "      <th>std</th>\n",
              "      <td>3.673876e+05</td>\n",
              "      <td>0.930110</td>\n",
              "      <td>0.734902</td>\n",
              "      <td>918.500299</td>\n",
              "      <td>4.142323e+04</td>\n",
              "      <td>0.551893</td>\n",
              "      <td>0.086523</td>\n",
              "      <td>0.766136</td>\n",
              "      <td>0.650764</td>\n",
              "      <td>1.175500</td>\n",
              "      <td>828.138723</td>\n",
              "      <td>442.596699</td>\n",
              "      <td>29.372639</td>\n",
              "      <td>401.499264</td>\n",
              "      <td>53.505373</td>\n",
              "      <td>685.425781</td>\n",
              "      <td>27305.972464</td>\n",
              "    </tr>\n",
              "    <tr>\n",
              "      <th>min</th>\n",
              "      <td>7.500000e+04</td>\n",
              "      <td>0.000000</td>\n",
              "      <td>0.000000</td>\n",
              "      <td>290.000000</td>\n",
              "      <td>5.200000e+02</td>\n",
              "      <td>1.000000</td>\n",
              "      <td>0.000000</td>\n",
              "      <td>0.000000</td>\n",
              "      <td>1.000000</td>\n",
              "      <td>1.000000</td>\n",
              "      <td>290.000000</td>\n",
              "      <td>0.000000</td>\n",
              "      <td>1900.000000</td>\n",
              "      <td>0.000000</td>\n",
              "      <td>98001.000000</td>\n",
              "      <td>399.000000</td>\n",
              "      <td>651.000000</td>\n",
              "    </tr>\n",
              "    <tr>\n",
              "      <th>25%</th>\n",
              "      <td>3.216125e+05</td>\n",
              "      <td>3.000000</td>\n",
              "      <td>1.000000</td>\n",
              "      <td>1425.500000</td>\n",
              "      <td>5.040000e+03</td>\n",
              "      <td>1.000000</td>\n",
              "      <td>0.000000</td>\n",
              "      <td>0.000000</td>\n",
              "      <td>3.000000</td>\n",
              "      <td>7.000000</td>\n",
              "      <td>1190.000000</td>\n",
              "      <td>0.000000</td>\n",
              "      <td>1951.000000</td>\n",
              "      <td>0.000000</td>\n",
              "      <td>98033.000000</td>\n",
              "      <td>1490.000000</td>\n",
              "      <td>5100.000000</td>\n",
              "    </tr>\n",
              "    <tr>\n",
              "      <th>50%</th>\n",
              "      <td>4.500000e+05</td>\n",
              "      <td>3.000000</td>\n",
              "      <td>2.000000</td>\n",
              "      <td>1910.000000</td>\n",
              "      <td>7.619000e+03</td>\n",
              "      <td>1.000000</td>\n",
              "      <td>0.000000</td>\n",
              "      <td>0.000000</td>\n",
              "      <td>3.000000</td>\n",
              "      <td>7.000000</td>\n",
              "      <td>1560.000000</td>\n",
              "      <td>0.000000</td>\n",
              "      <td>1975.000000</td>\n",
              "      <td>0.000000</td>\n",
              "      <td>98065.000000</td>\n",
              "      <td>1840.000000</td>\n",
              "      <td>7620.000000</td>\n",
              "    </tr>\n",
              "    <tr>\n",
              "      <th>75%</th>\n",
              "      <td>6.450000e+05</td>\n",
              "      <td>4.000000</td>\n",
              "      <td>2.000000</td>\n",
              "      <td>2550.000000</td>\n",
              "      <td>1.068875e+04</td>\n",
              "      <td>2.000000</td>\n",
              "      <td>0.000000</td>\n",
              "      <td>0.000000</td>\n",
              "      <td>4.000000</td>\n",
              "      <td>8.000000</td>\n",
              "      <td>2210.000000</td>\n",
              "      <td>560.000000</td>\n",
              "      <td>1997.000000</td>\n",
              "      <td>0.000000</td>\n",
              "      <td>98118.000000</td>\n",
              "      <td>2360.000000</td>\n",
              "      <td>10083.000000</td>\n",
              "    </tr>\n",
              "    <tr>\n",
              "      <th>max</th>\n",
              "      <td>7.700000e+06</td>\n",
              "      <td>33.000000</td>\n",
              "      <td>8.000000</td>\n",
              "      <td>13540.000000</td>\n",
              "      <td>1.651359e+06</td>\n",
              "      <td>3.000000</td>\n",
              "      <td>1.000000</td>\n",
              "      <td>4.000000</td>\n",
              "      <td>5.000000</td>\n",
              "      <td>13.000000</td>\n",
              "      <td>9410.000000</td>\n",
              "      <td>4820.000000</td>\n",
              "      <td>2015.000000</td>\n",
              "      <td>2015.000000</td>\n",
              "      <td>98199.000000</td>\n",
              "      <td>6210.000000</td>\n",
              "      <td>871200.000000</td>\n",
              "    </tr>\n",
              "  </tbody>\n",
              "</table>\n",
              "</div>"
            ],
            "text/plain": [
              "              price      bedrooms  ...  sqft_living15     sqft_lot15\n",
              "count  2.161000e+04  21610.000000  ...   21610.000000   21610.000000\n",
              "mean   5.401789e+05      3.370847  ...    1986.518695   12769.031976\n",
              "std    3.673876e+05      0.930110  ...     685.425781   27305.972464\n",
              "min    7.500000e+04      0.000000  ...     399.000000     651.000000\n",
              "25%    3.216125e+05      3.000000  ...    1490.000000    5100.000000\n",
              "50%    4.500000e+05      3.000000  ...    1840.000000    7620.000000\n",
              "75%    6.450000e+05      4.000000  ...    2360.000000   10083.000000\n",
              "max    7.700000e+06     33.000000  ...    6210.000000  871200.000000\n",
              "\n",
              "[8 rows x 17 columns]"
            ]
          },
          "metadata": {
            "tags": []
          },
          "execution_count": 10
        }
      ]
    },
    {
      "cell_type": "code",
      "metadata": {
        "id": "kOx6lPUQMlgW",
        "colab_type": "code",
        "colab": {
          "base_uri": "https://localhost:8080/",
          "height": 1000
        },
        "outputId": "82499a03-cd43-49b4-bb73-28e07dbfd8f8"
      },
      "source": [
        "# Showing mean and standard deviation\n",
        "for column in house_df.columns:\n",
        "  print('\\n')\n",
        "  print(column+ ' has a kurtosis of '+ str(house_df[column].kurtosis()))\n",
        "  print(column+ ' has a standard deviation of '+ str(house_df[column].std()))\n",
        "  print(column+ ' has a skewness of '+ str(house_df[column].skew()))"
      ],
      "execution_count": 64,
      "outputs": [
        {
          "output_type": "stream",
          "text": [
            "\n",
            "\n",
            "price has a kurtosis of 34.517437729615054\n",
            "price has a standard deviation of 367387.58505388984\n",
            "price has a skewness of 4.021467451317612\n",
            "\n",
            "\n",
            "bedrooms has a kurtosis of 49.06010825423431\n",
            "bedrooms has a standard deviation of 0.9301096999846462\n",
            "bedrooms has a skewness of 1.9742435470953739\n",
            "\n",
            "\n",
            "bathrooms has a kurtosis of 1.9893616645626904\n",
            "bathrooms has a standard deviation of 0.7349024521327884\n",
            "bathrooms has a skewness of 0.9021208866389637\n",
            "\n",
            "\n",
            "sqft_living has a kurtosis of 5.242222911342459\n",
            "sqft_living has a standard deviation of 918.5002986169898\n",
            "sqft_living has a skewness of 1.4715321846904306\n",
            "\n",
            "\n",
            "sqft_lot has a kurtosis of 285.0406214916321\n",
            "sqft_lot has a standard deviation of 41423.2267370033\n",
            "sqft_lot has a skewness of 13.059170061304911\n",
            "\n",
            "\n",
            "floors has a kurtosis of -0.5508017231881506\n",
            "floors has a standard deviation of 0.5518932517458218\n",
            "floors has a skewness of 0.7265579373179887\n",
            "\n",
            "\n",
            "waterfront has a kurtosis of 127.6140895994763\n",
            "waterfront has a standard deviation of 0.08652315751754107\n",
            "waterfront has a skewness of 11.384299669126701\n",
            "\n",
            "\n",
            "view has a kurtosis of 10.9021183028132\n",
            "view has a standard deviation of 0.7661364602166483\n",
            "view has a skewness of 3.396871876044005\n",
            "\n",
            "\n",
            "condition has a kurtosis of 0.5256882874168287\n",
            "condition has a standard deviation of 0.6507638952171331\n",
            "condition has a skewness of 1.0327885174007136\n",
            "\n",
            "\n",
            "grade has a kurtosis of 1.1910898336094307\n",
            "grade has a standard deviation of 1.1755002014627765\n",
            "grade has a skewness of 0.7712970436226934\n",
            "\n",
            "\n",
            "sqft_above has a kurtosis of 3.4020083332111235\n",
            "sqft_above has a standard deviation of 828.1387234173122\n",
            "sqft_above has a skewness of 1.4467579401958504\n",
            "\n",
            "\n",
            "sqft_basement has a kurtosis of 2.714885503607166\n",
            "sqft_basement has a standard deviation of 442.5966986816738\n",
            "sqft_basement has a skewness of 1.5778143003083518\n",
            "\n",
            "\n",
            "yr_built has a kurtosis of -0.657206754017591\n",
            "yr_built has a standard deviation of 29.37263855866852\n",
            "yr_built has a skewness of -0.469822900099242\n",
            "\n",
            "\n",
            "yr_renovated has a kurtosis of 18.723732852671997\n",
            "yr_renovated has a standard deviation of 401.4992643073489\n",
            "yr_renovated has a skewness of 4.55197398329985\n",
            "\n",
            "\n",
            "zipcode has a kurtosis of -0.8536037850656655\n",
            "zipcode has a standard deviation of 53.505373041005804\n",
            "zipcode has a skewness of 0.40553301628516\n",
            "\n",
            "\n",
            "sqft_living15 has a kurtosis of 1.5970089685116453\n",
            "sqft_living15 has a standard deviation of 685.4257806364748\n",
            "sqft_living15 has a skewness of 1.1082901797966638\n",
            "\n",
            "\n",
            "sqft_lot15 has a kurtosis of 150.74327525589925\n",
            "sqft_lot15 has a standard deviation of 27305.972463593964\n",
            "sqft_lot15 has a skewness of 9.506129480452218\n"
          ],
          "name": "stdout"
        }
      ]
    },
    {
      "cell_type": "markdown",
      "metadata": {
        "id": "CwHXSbmmjgRp",
        "colab_type": "text"
      },
      "source": [
        "This summary of kurtosis and standard deviation,and kurtosis of the columns ."
      ]
    },
    {
      "cell_type": "code",
      "metadata": {
        "id": "nTYdyajLCeVO",
        "colab_type": "code",
        "colab": {
          "base_uri": "https://localhost:8080/",
          "height": 974
        },
        "outputId": "36f073f2-2827-403f-bc6b-982c1f7764c1"
      },
      "source": [
        "house_df.hist(bins=10, figsize=(15,15))\n",
        "plt.suptitle(\"Histogram of numeric variables in house_data dataset\")\n",
        "plt.savefig('Histogram')\n",
        "plt.show()"
      ],
      "execution_count": 135,
      "outputs": [
        {
          "output_type": "display_data",
          "data": {
            "image/png": "[encoded data removed]",
            "text/plain": [
              "<Figure size 1080x1080 with 20 Axes>"
            ]
          },
          "metadata": {
            "tags": []
          }
        }
      ]
    },
    {
      "cell_type": "markdown",
      "metadata": {
        "id": "7RvkGpeEGSyE",
        "colab_type": "text"
      },
      "source": [
        "From my plots the plot of sqft_living, sqft_living15, sqft above are positively skewed meaning observations mostly lie to the right.There are also outliers in these columns which would be expected.\n",
        "\n",
        "The year built column is negatively skewed which means there are outliers in this column as well.\n",
        "\n",
        "Determining their possible negative effect will be time consuming and in the real data sets there will always be some outliers like some luxury house prices in this dataset. That's why I am not planning to remove outliers.\n",
        "\n"
      ]
    },
    {
      "cell_type": "code",
      "metadata": {
        "id": "LR2oHP2qMf0z",
        "colab_type": "code",
        "colab": {
          "base_uri": "https://localhost:8080/",
          "height": 35
        },
        "outputId": "e04a8278-9689-4a39-f4fc-0ec20eeaa6c5"
      },
      "source": [
        "# Plotting histograms for our numerical variables\n",
        "sns.set(rc={'figure.figsize':(10,5)})\n",
        "fig, ((ax1),(ax2),(ax3),(ax4)) \n",
        "sns.distplot(house_df['sqft_living'], kde= True,color= 'purple', ax=ax1)\n",
        "sns.distplot(house_df['bedrooms'], kde= True,color= 'blue', ax=ax2)\n",
        "sns.distplot(house_df['bathrooms'], kde= True,color= 'orange', ax=ax3)\n",
        "sns.distplot(house_df['price'], kde= True, color='Pink', ax=ax4) \n"
      ],
      "execution_count": 136,
      "outputs": [
        {
          "output_type": "execute_result",
          "data": {
            "text/plain": [
              "<matplotlib.axes._subplots.AxesSubplot at 0x7ff2ffdf86d8>"
            ]
          },
          "metadata": {
            "tags": []
          },
          "execution_count": 136
        }
      ]
    },
    {
      "cell_type": "code",
      "metadata": {
        "id": "c4lJ-4h0XMnA",
        "colab_type": "code",
        "colab": {
          "base_uri": "https://localhost:8080/",
          "height": 357
        },
        "outputId": "741955dc-e487-41b1-84ff-e0326cc2af75"
      },
      "source": [
        "sns.distplot(house_df['sqft_living'], kde= True,color= 'purple')"
      ],
      "execution_count": 137,
      "outputs": [
        {
          "output_type": "execute_result",
          "data": {
            "text/plain": [
              "<matplotlib.axes._subplots.AxesSubplot at 0x7ff2feebdac8>"
            ]
          },
          "metadata": {
            "tags": []
          },
          "execution_count": 137
        },
        {
          "output_type": "display_data",
          "data": {
            "image/png": "[encoded data removed]",
            "text/plain": [
              "<Figure size 720x360 with 1 Axes>"
            ]
          },
          "metadata": {
            "tags": []
          }
        }
      ]
    },
    {
      "cell_type": "markdown",
      "metadata": {
        "id": "oQ_mRoXWqr_f",
        "colab_type": "text"
      },
      "source": [
        "This shows that the plot is positively skewed,there are outliers in this column and the plot shows that the distribution has thin tails.\n",
        "sqft_living column has a kurtosis of 5.242222911342459\n",
        "sqft_living has a standard deviation of 918.5002986169898\n"
      ]
    },
    {
      "cell_type": "code",
      "metadata": {
        "id": "8uIO0GINeAV2",
        "colab_type": "code",
        "colab": {
          "base_uri": "https://localhost:8080/",
          "height": 357
        },
        "outputId": "51d55bda-045b-42c3-da19-c09c79179178"
      },
      "source": [
        "sns.countplot(house_df['bedrooms'])"
      ],
      "execution_count": 118,
      "outputs": [
        {
          "output_type": "execute_result",
          "data": {
            "text/plain": [
              "<matplotlib.axes._subplots.AxesSubplot at 0x7ff2ff415080>"
            ]
          },
          "metadata": {
            "tags": []
          },
          "execution_count": 118
        },
        {
          "output_type": "display_data",
          "data": {
            "image/png": "[encoded data removed]",
            "text/plain": [
              "<Figure size 720x360 with 1 Axes>"
            ]
          },
          "metadata": {
            "tags": []
          }
        }
      ]
    },
    {
      "cell_type": "markdown",
      "metadata": {
        "id": "wm4wH2krrUwA",
        "colab_type": "text"
      },
      "source": [
        "It seems the 3 bedroom house is most popular interms of the count  and a 1 bedroom house is the least popular.\n",
        "There are no houses with no bedrooms."
      ]
    },
    {
      "cell_type": "code",
      "metadata": {
        "id": "m-nGcum2XCix",
        "colab_type": "code",
        "colab": {
          "base_uri": "https://localhost:8080/",
          "height": 357
        },
        "outputId": "ff7bbb1a-3816-4edb-db39-5c935c5654ab"
      },
      "source": [
        "sns.countplot(house_df['bathrooms'])"
      ],
      "execution_count": 119,
      "outputs": [
        {
          "output_type": "execute_result",
          "data": {
            "text/plain": [
              "<matplotlib.axes._subplots.AxesSubplot at 0x7ff2ff3ac208>"
            ]
          },
          "metadata": {
            "tags": []
          },
          "execution_count": 119
        },
        {
          "output_type": "display_data",
          "data": {
            "image/png": "[encoded data removed]",
            "text/plain": [
              "<Figure size 720x360 with 1 Axes>"
            ]
          },
          "metadata": {
            "tags": []
          }
        }
      ]
    },
    {
      "cell_type": "markdown",
      "metadata": {
        "id": "yIX0vssKr6aa",
        "colab_type": "text"
      },
      "source": [
        "It seems that houses with 2 bathrooms have the highest count and the houses with 0 bathrooms have the least count."
      ]
    },
    {
      "cell_type": "code",
      "metadata": {
        "id": "J8Ss3xo7eQvF",
        "colab_type": "code",
        "colab": {
          "base_uri": "https://localhost:8080/",
          "height": 357
        },
        "outputId": "64e75352-d903-45e0-9a75-11b08dde7fb5"
      },
      "source": [
        "sns.countplot(house_df['condition'])"
      ],
      "execution_count": 121,
      "outputs": [
        {
          "output_type": "execute_result",
          "data": {
            "text/plain": [
              "<matplotlib.axes._subplots.AxesSubplot at 0x7ff2ff2d6470>"
            ]
          },
          "metadata": {
            "tags": []
          },
          "execution_count": 121
        },
        {
          "output_type": "display_data",
          "data": {
            "image/png": "[encoded data removed]",
            "text/plain": [
              "<Figure size 720x360 with 1 Axes>"
            ]
          },
          "metadata": {
            "tags": []
          }
        }
      ]
    },
    {
      "cell_type": "markdown",
      "metadata": {
        "id": "vAvhn7tasSJC",
        "colab_type": "text"
      },
      "source": [
        "Houses that have a condition of 3 seem to have the highest count, even though 5 is a higher rate of the condition of the house/apartment."
      ]
    },
    {
      "cell_type": "code",
      "metadata": {
        "id": "DYpUmfT-ejU1",
        "colab_type": "code",
        "colab": {
          "base_uri": "https://localhost:8080/",
          "height": 357
        },
        "outputId": "bed7e167-5851-420a-c19a-683b073cc0cd"
      },
      "source": [
        "sns.countplot(house_df['grade'])"
      ],
      "execution_count": 122,
      "outputs": [
        {
          "output_type": "execute_result",
          "data": {
            "text/plain": [
              "<matplotlib.axes._subplots.AxesSubplot at 0x7ff2ff295eb8>"
            ]
          },
          "metadata": {
            "tags": []
          },
          "execution_count": 122
        },
        {
          "output_type": "display_data",
          "data": {
            "image/png": "[encoded data removed]",
            "text/plain": [
              "<Figure size 720x360 with 1 Axes>"
            ]
          },
          "metadata": {
            "tags": []
          }
        }
      ]
    },
    {
      "cell_type": "markdown",
      "metadata": {
        "id": "-P-WS9eYvaMx",
        "colab_type": "text"
      },
      "source": [
        "A grade of 7 has the highest count while 12 has possibly the lowest count."
      ]
    },
    {
      "cell_type": "code",
      "metadata": {
        "id": "5wzjEopbGdNj",
        "colab_type": "code",
        "colab": {
          "base_uri": "https://localhost:8080/",
          "height": 367
        },
        "outputId": "7586aeec-0d7d-43de-8378-b337d382f932"
      },
      "source": [
        "# Ditribution plot for price column\n",
        "\n",
        "sns.distplot(house_df['price'], kde= True,color='red')"
      ],
      "execution_count": 110,
      "outputs": [
        {
          "output_type": "execute_result",
          "data": {
            "text/plain": [
              "<matplotlib.axes._subplots.AxesSubplot at 0x7ff2ff769f98>"
            ]
          },
          "metadata": {
            "tags": []
          },
          "execution_count": 110
        },
        {
          "output_type": "display_data",
          "data": {
            "image/png": "[encoded data removed]",
            "text/plain": [
              "<Figure size 720x360 with 1 Axes>"
            ]
          },
          "metadata": {
            "tags": []
          }
        }
      ]
    },
    {
      "cell_type": "markdown",
      "metadata": {
        "id": "VgKafwFUv7yb",
        "colab_type": "text"
      },
      "source": [
        "The plot shows that price column is positively skewed, due to outliers\n",
        "price has a kurtosis of 34.517437729615054\n",
        "price has a standard deviation of 367387.58505388984\n",
        "price has a skewness of 4.021467451317612\n"
      ]
    },
    {
      "cell_type": "markdown",
      "metadata": {
        "id": "jyWRxV5MX4Sl",
        "colab_type": "text"
      },
      "source": [
        "Bi variate Analysis"
      ]
    },
    {
      "cell_type": "code",
      "metadata": {
        "id": "fiiw5DDFG_Fu",
        "colab_type": "code",
        "colab": {
          "base_uri": "https://localhost:8080/",
          "height": 676
        },
        "outputId": "db5d8fe8-be6b-47ff-e451-8dec2c316fad"
      },
      "source": [
        "# Plotting price against the bedrooms to see relationships\n",
        "plt.title(\"Price vs Bedroom\")\n",
        "sns.set(rc={'figure.figsize':(10,6)})\n",
        "sns.barplot(x='bedrooms', y='price', data = house_df)\n",
        "house_df.groupby('bedrooms')['price'].mean().sort_values(ascending=False)"
      ],
      "execution_count": 104,
      "outputs": [
        {
          "output_type": "execute_result",
          "data": {
            "text/plain": [
              "bedrooms\n",
              "8     1.105077e+06\n",
              "7     9.514478e+05\n",
              "9     8.939998e+05\n",
              "6     8.258535e+05\n",
              "10    8.200000e+05\n",
              "5     7.868741e+05\n",
              "33    6.400000e+05\n",
              "4     6.355771e+05\n",
              "11    5.200000e+05\n",
              "3     4.662555e+05\n",
              "0     4.102231e+05\n",
              "2     4.013877e+05\n",
              "1     3.176580e+05\n",
              "Name: price, dtype: float64"
            ]
          },
          "metadata": {
            "tags": []
          },
          "execution_count": 104
        },
        {
          "output_type": "display_data",
          "data": {
            "image/png": "[encoded data removed]",
            "text/plain": [
              "<Figure size 720x432 with 1 Axes>"
            ]
          },
          "metadata": {
            "tags": []
          }
        }
      ]
    },
    {
      "cell_type": "markdown",
      "metadata": {
        "id": "kmjKTjE8w4l2",
        "colab_type": "text"
      },
      "source": [
        "The price of an 8 bedroom house is the highest, and the lowest is a one bedroom house."
      ]
    },
    {
      "cell_type": "code",
      "metadata": {
        "id": "jX9O1mkUZM1h",
        "colab_type": "code",
        "colab": {
          "base_uri": "https://localhost:8080/",
          "height": 383
        },
        "outputId": "8c1ea9b0-8b80-4aa8-a288-89d0f3a0bd3b"
      },
      "source": [
        "# Plotting a pairplot of our variables\n",
        "sns.catplot(x=\"floors\",y=\"price\",kind=\"point\",data=house_df)"
      ],
      "execution_count": 112,
      "outputs": [
        {
          "output_type": "execute_result",
          "data": {
            "text/plain": [
              "<seaborn.axisgrid.FacetGrid at 0x7ff2ff72cb00>"
            ]
          },
          "metadata": {
            "tags": []
          },
          "execution_count": 112
        },
        {
          "output_type": "display_data",
          "data": {
            "image/png": "[encoded data removed]",
            "text/plain": [
              "<Figure size 360x360 with 1 Axes>"
            ]
          },
          "metadata": {
            "tags": []
          }
        }
      ]
    },
    {
      "cell_type": "markdown",
      "metadata": {
        "id": "KrRYnipfxKQo",
        "colab_type": "text"
      },
      "source": [
        "A house with 2 floors seems to be mpst expensive from my catplot"
      ]
    },
    {
      "cell_type": "code",
      "metadata": {
        "id": "sJbNHYZBcq7K",
        "colab_type": "code",
        "colab": {
          "base_uri": "https://localhost:8080/",
          "height": 383
        },
        "outputId": "b0af3f82-5ef3-43cd-ddc1-be94e7ab29e0"
      },
      "source": [
        "sns.catplot(x=\"bathrooms\",y=\"price\",kind=\"point\",data=house_df)"
      ],
      "execution_count": 114,
      "outputs": [
        {
          "output_type": "execute_result",
          "data": {
            "text/plain": [
              "<seaborn.axisgrid.FacetGrid at 0x7ff2ff769320>"
            ]
          },
          "metadata": {
            "tags": []
          },
          "execution_count": 114
        },
        {
          "output_type": "display_data",
          "data": {
            "image/png": "[encoded data removed]",
            "text/plain": [
              "<Figure size 360x360 with 1 Axes>"
            ]
          },
          "metadata": {
            "tags": []
          }
        }
      ]
    },
    {
      "cell_type": "markdown",
      "metadata": {
        "id": "yYYRQLDixWNF",
        "colab_type": "text"
      },
      "source": [
        "A house that has 8 bathrooms is more expensive than one with no bathrooms. There is a positive relationship between the number of bathrooms and price of that house."
      ]
    },
    {
      "cell_type": "code",
      "metadata": {
        "id": "nb5UsOYxYD3Y",
        "colab_type": "code",
        "colab": {
          "base_uri": "https://localhost:8080/",
          "height": 301
        },
        "outputId": "b73baade-4963-458b-803b-68e83b261379"
      },
      "source": [
        "# Plotting our scatterplot\n",
        "plt.scatter(house_df['price'], house_df['condition'])\n",
        "\n",
        "# Giving our scatterplot a title\n",
        "plt.title('price vs condition')\n",
        "\n",
        "# Labelling our x axis\n",
        "plt.xlabel('condition')\n",
        "\n",
        "# Labelling our y axis\n",
        "plt.ylabel('price')\n",
        "\n",
        "# Displaying our scatterplot\n",
        "plt.show()"
      ],
      "execution_count": 11,
      "outputs": [
        {
          "output_type": "display_data",
          "data": {
            "image/png": "[encoded data removed]",
            "text/plain": [
              "<Figure size 432x288 with 1 Axes>"
            ]
          },
          "metadata": {
            "tags": [],
            "needs_background": "light"
          }
        }
      ]
    },
    {
      "cell_type": "markdown",
      "metadata": {
        "id": "pRGIpEJox9e8",
        "colab_type": "text"
      },
      "source": [
        "Again it seems that a house rated 3 seeems to be more expensive."
      ]
    },
    {
      "cell_type": "code",
      "metadata": {
        "id": "2f9f8s7EaiiW",
        "colab_type": "code",
        "colab": {
          "base_uri": "https://localhost:8080/",
          "height": 352
        },
        "outputId": "4c18b87c-ea8c-431c-ff44-32fd51600af1"
      },
      "source": [
        "house_df.plot(x = 'grade', y = 'price', kind='scatter')"
      ],
      "execution_count": 13,
      "outputs": [
        {
          "output_type": "stream",
          "text": [
            "*c* argument looks like a single numeric RGB or RGBA sequence, which should be avoided as value-mapping will have precedence in case its length matches with *x* & *y*.  Please use the *color* keyword-argument or provide a 2-D array with a single row if you intend to specify the same RGB or RGBA value for all points.\n"
          ],
          "name": "stderr"
        },
        {
          "output_type": "execute_result",
          "data": {
            "text/plain": [
              "<matplotlib.axes._subplots.AxesSubplot at 0x7fea1ab15748>"
            ]
          },
          "metadata": {
            "tags": []
          },
          "execution_count": 13
        },
        {
          "output_type": "display_data",
          "data": {
            "image/png": "[encoded data removed]",
            "text/plain": [
              "<Figure size 432x288 with 1 Axes>"
            ]
          },
          "metadata": {
            "tags": [],
            "needs_background": "light"
          }
        }
      ]
    },
    {
      "cell_type": "markdown",
      "metadata": {
        "id": "6GYg-bE-yOqy",
        "colab_type": "text"
      },
      "source": [
        "There is an increase in price as the grade of the house increases."
      ]
    },
    {
      "cell_type": "code",
      "metadata": {
        "id": "XmrvH4aybIez",
        "colab_type": "code",
        "colab": {
          "base_uri": "https://localhost:8080/",
          "height": 352
        },
        "outputId": "859f16c1-cf5c-4877-d95d-a13297a02805"
      },
      "source": [
        "#Plot of square foot of living room vs price.\n",
        "house_df.plot(x = 'sqft_living', y = 'price', kind='scatter')"
      ],
      "execution_count": 15,
      "outputs": [
        {
          "output_type": "stream",
          "text": [
            "*c* argument looks like a single numeric RGB or RGBA sequence, which should be avoided as value-mapping will have precedence in case its length matches with *x* & *y*.  Please use the *color* keyword-argument or provide a 2-D array with a single row if you intend to specify the same RGB or RGBA value for all points.\n"
          ],
          "name": "stderr"
        },
        {
          "output_type": "execute_result",
          "data": {
            "text/plain": [
              "<matplotlib.axes._subplots.AxesSubplot at 0x7fea1a9f2b00>"
            ]
          },
          "metadata": {
            "tags": []
          },
          "execution_count": 15
        },
        {
          "output_type": "display_data",
          "data": {
            "image/png": "[encoded data removed]",
            "text/plain": [
              "<Figure size 432x288 with 1 Axes>"
            ]
          },
          "metadata": {
            "tags": [],
            "needs_background": "light"
          }
        }
      ]
    },
    {
      "cell_type": "markdown",
      "metadata": {
        "id": "0oDEvh8nmVuc",
        "colab_type": "text"
      },
      "source": [
        "From my scatter plot, price is highly correlated with square foot living column.The increase of price causes increase in square feet of the living room."
      ]
    },
    {
      "cell_type": "code",
      "metadata": {
        "id": "4EVi6VZpbRKo",
        "colab_type": "code",
        "colab": {
          "base_uri": "https://localhost:8080/",
          "height": 352
        },
        "outputId": "d8720d22-e67d-4567-e077-549fc9eb6249"
      },
      "source": [
        "#Plotting sqft_living15 column vs price of the house\n",
        "house_df.plot(x = 'sqft_living15', y = 'price', kind='scatter')"
      ],
      "execution_count": 16,
      "outputs": [
        {
          "output_type": "stream",
          "text": [
            "*c* argument looks like a single numeric RGB or RGBA sequence, which should be avoided as value-mapping will have precedence in case its length matches with *x* & *y*.  Please use the *color* keyword-argument or provide a 2-D array with a single row if you intend to specify the same RGB or RGBA value for all points.\n"
          ],
          "name": "stderr"
        },
        {
          "output_type": "execute_result",
          "data": {
            "text/plain": [
              "<matplotlib.axes._subplots.AxesSubplot at 0x7fea1a9e14e0>"
            ]
          },
          "metadata": {
            "tags": []
          },
          "execution_count": 16
        },
        {
          "output_type": "display_data",
          "data": {
            "image/png": "[encoded data removed]",
            "text/plain": [
              "<Figure size 432x288 with 1 Axes>"
            ]
          },
          "metadata": {
            "tags": [],
            "needs_background": "light"
          }
        }
      ]
    },
    {
      "cell_type": "markdown",
      "metadata": {
        "id": "u71HQEfZm-6p",
        "colab_type": "text"
      },
      "source": [
        "Although there is a somewhat linear relationship between price and sqftliving15 column,it is not as strong as the relationship between price and sqft_living column.\n",
        "An increase in price will lead to an increase in sqft_living15."
      ]
    },
    {
      "cell_type": "markdown",
      "metadata": {
        "id": "g2HZEEA-gB2b",
        "colab_type": "text"
      },
      "source": [
        "#Multicolinearity"
      ]
    },
    {
      "cell_type": "code",
      "metadata": {
        "id": "-7o-7vR7ghiL",
        "colab_type": "code",
        "colab": {
          "base_uri": "https://localhost:8080/",
          "height": 584
        },
        "outputId": "1fa446ea-f685-444b-ba84-64aebb694adc"
      },
      "source": [
        "correlation = house_df.corr()\n",
        "correlation"
      ],
      "execution_count": 13,
      "outputs": [
        {
          "output_type": "execute_result",
          "data": {
            "text/html": [
              "<div>\n",
              "<style scoped>\n",
              "    .dataframe tbody tr th:only-of-type {\n",
              "        vertical-align: middle;\n",
              "    }\n",
              "\n",
              "    .dataframe tbody tr th {\n",
              "        vertical-align: top;\n",
              "    }\n",
              "\n",
              "    .dataframe thead th {\n",
              "        text-align: right;\n",
              "    }\n",
              "</style>\n",
              "<table border=\"1\" class=\"dataframe\">\n",
              "  <thead>\n",
              "    <tr style=\"text-align: right;\">\n",
              "      <th></th>\n",
              "      <th>price</th>\n",
              "      <th>bedrooms</th>\n",
              "      <th>bathrooms</th>\n",
              "      <th>sqft_living</th>\n",
              "      <th>sqft_lot</th>\n",
              "      <th>floors</th>\n",
              "      <th>waterfront</th>\n",
              "      <th>view</th>\n",
              "      <th>condition</th>\n",
              "      <th>grade</th>\n",
              "      <th>sqft_above</th>\n",
              "      <th>sqft_basement</th>\n",
              "      <th>yr_built</th>\n",
              "      <th>yr_renovated</th>\n",
              "      <th>zipcode</th>\n",
              "      <th>sqft_living15</th>\n",
              "      <th>sqft_lot15</th>\n",
              "    </tr>\n",
              "  </thead>\n",
              "  <tbody>\n",
              "    <tr>\n",
              "      <th>price</th>\n",
              "      <td>1.000000</td>\n",
              "      <td>0.308346</td>\n",
              "      <td>0.510096</td>\n",
              "      <td>0.702046</td>\n",
              "      <td>0.089658</td>\n",
              "      <td>0.237215</td>\n",
              "      <td>0.266332</td>\n",
              "      <td>0.397466</td>\n",
              "      <td>0.036397</td>\n",
              "      <td>0.667478</td>\n",
              "      <td>0.605569</td>\n",
              "      <td>0.323849</td>\n",
              "      <td>0.053980</td>\n",
              "      <td>0.126503</td>\n",
              "      <td>-0.053162</td>\n",
              "      <td>0.585382</td>\n",
              "      <td>0.082457</td>\n",
              "    </tr>\n",
              "    <tr>\n",
              "      <th>bedrooms</th>\n",
              "      <td>0.308346</td>\n",
              "      <td>1.000000</td>\n",
              "      <td>0.467519</td>\n",
              "      <td>0.576674</td>\n",
              "      <td>0.031699</td>\n",
              "      <td>0.155663</td>\n",
              "      <td>-0.006583</td>\n",
              "      <td>0.079433</td>\n",
              "      <td>0.028422</td>\n",
              "      <td>0.357003</td>\n",
              "      <td>0.477619</td>\n",
              "      <td>0.303077</td>\n",
              "      <td>0.154276</td>\n",
              "      <td>0.018695</td>\n",
              "      <td>-0.152721</td>\n",
              "      <td>0.391633</td>\n",
              "      <td>0.029233</td>\n",
              "    </tr>\n",
              "    <tr>\n",
              "      <th>bathrooms</th>\n",
              "      <td>0.510096</td>\n",
              "      <td>0.467519</td>\n",
              "      <td>1.000000</td>\n",
              "      <td>0.697914</td>\n",
              "      <td>0.085313</td>\n",
              "      <td>0.484886</td>\n",
              "      <td>0.058799</td>\n",
              "      <td>0.177497</td>\n",
              "      <td>-0.125962</td>\n",
              "      <td>0.606661</td>\n",
              "      <td>0.639963</td>\n",
              "      <td>0.250920</td>\n",
              "      <td>0.433608</td>\n",
              "      <td>0.060698</td>\n",
              "      <td>-0.159755</td>\n",
              "      <td>0.510106</td>\n",
              "      <td>0.080794</td>\n",
              "    </tr>\n",
              "    <tr>\n",
              "      <th>sqft_living</th>\n",
              "      <td>0.702046</td>\n",
              "      <td>0.576674</td>\n",
              "      <td>0.697914</td>\n",
              "      <td>1.000000</td>\n",
              "      <td>0.172830</td>\n",
              "      <td>0.353327</td>\n",
              "      <td>0.103820</td>\n",
              "      <td>0.284641</td>\n",
              "      <td>-0.058768</td>\n",
              "      <td>0.762719</td>\n",
              "      <td>0.876600</td>\n",
              "      <td>0.435054</td>\n",
              "      <td>0.318099</td>\n",
              "      <td>0.055314</td>\n",
              "      <td>-0.199435</td>\n",
              "      <td>0.756420</td>\n",
              "      <td>0.183285</td>\n",
              "    </tr>\n",
              "    <tr>\n",
              "      <th>sqft_lot</th>\n",
              "      <td>0.089658</td>\n",
              "      <td>0.031699</td>\n",
              "      <td>0.085313</td>\n",
              "      <td>0.172830</td>\n",
              "      <td>1.000000</td>\n",
              "      <td>-0.008919</td>\n",
              "      <td>0.021601</td>\n",
              "      <td>0.074753</td>\n",
              "      <td>-0.008967</td>\n",
              "      <td>0.113644</td>\n",
              "      <td>0.183527</td>\n",
              "      <td>0.015271</td>\n",
              "      <td>0.053105</td>\n",
              "      <td>0.007677</td>\n",
              "      <td>-0.129611</td>\n",
              "      <td>0.144620</td>\n",
              "      <td>0.718556</td>\n",
              "    </tr>\n",
              "    <tr>\n",
              "      <th>floors</th>\n",
              "      <td>0.237215</td>\n",
              "      <td>0.155663</td>\n",
              "      <td>0.484886</td>\n",
              "      <td>0.353327</td>\n",
              "      <td>-0.008919</td>\n",
              "      <td>1.000000</td>\n",
              "      <td>0.019654</td>\n",
              "      <td>0.024528</td>\n",
              "      <td>-0.293188</td>\n",
              "      <td>0.472577</td>\n",
              "      <td>0.517903</td>\n",
              "      <td>-0.235802</td>\n",
              "      <td>0.578663</td>\n",
              "      <td>-0.007979</td>\n",
              "      <td>-0.096645</td>\n",
              "      <td>0.296537</td>\n",
              "      <td>-0.013232</td>\n",
              "    </tr>\n",
              "    <tr>\n",
              "      <th>waterfront</th>\n",
              "      <td>0.266332</td>\n",
              "      <td>-0.006583</td>\n",
              "      <td>0.058799</td>\n",
              "      <td>0.103820</td>\n",
              "      <td>0.021601</td>\n",
              "      <td>0.019654</td>\n",
              "      <td>1.000000</td>\n",
              "      <td>0.401993</td>\n",
              "      <td>0.016652</td>\n",
              "      <td>0.082785</td>\n",
              "      <td>0.072080</td>\n",
              "      <td>0.080585</td>\n",
              "      <td>-0.026159</td>\n",
              "      <td>0.092950</td>\n",
              "      <td>0.030277</td>\n",
              "      <td>0.086469</td>\n",
              "      <td>0.030702</td>\n",
              "    </tr>\n",
              "    <tr>\n",
              "      <th>view</th>\n",
              "      <td>0.397466</td>\n",
              "      <td>0.079433</td>\n",
              "      <td>0.177497</td>\n",
              "      <td>0.284641</td>\n",
              "      <td>0.074753</td>\n",
              "      <td>0.024528</td>\n",
              "      <td>0.401993</td>\n",
              "      <td>1.000000</td>\n",
              "      <td>0.045836</td>\n",
              "      <td>0.251378</td>\n",
              "      <td>0.167659</td>\n",
              "      <td>0.276996</td>\n",
              "      <td>-0.053229</td>\n",
              "      <td>0.103208</td>\n",
              "      <td>0.084838</td>\n",
              "      <td>0.280404</td>\n",
              "      <td>0.072577</td>\n",
              "    </tr>\n",
              "    <tr>\n",
              "      <th>condition</th>\n",
              "      <td>0.036397</td>\n",
              "      <td>0.028422</td>\n",
              "      <td>-0.125962</td>\n",
              "      <td>-0.058768</td>\n",
              "      <td>-0.008967</td>\n",
              "      <td>-0.293188</td>\n",
              "      <td>0.016652</td>\n",
              "      <td>0.045836</td>\n",
              "      <td>1.000000</td>\n",
              "      <td>-0.144655</td>\n",
              "      <td>-0.158212</td>\n",
              "      <td>0.174071</td>\n",
              "      <td>-0.361347</td>\n",
              "      <td>-0.060862</td>\n",
              "      <td>0.002962</td>\n",
              "      <td>-0.092854</td>\n",
              "      <td>-0.003424</td>\n",
              "    </tr>\n",
              "    <tr>\n",
              "      <th>grade</th>\n",
              "      <td>0.667478</td>\n",
              "      <td>0.357003</td>\n",
              "      <td>0.606661</td>\n",
              "      <td>0.762719</td>\n",
              "      <td>0.113644</td>\n",
              "      <td>0.472577</td>\n",
              "      <td>0.082785</td>\n",
              "      <td>0.251378</td>\n",
              "      <td>-0.144655</td>\n",
              "      <td>1.000000</td>\n",
              "      <td>0.755919</td>\n",
              "      <td>0.168443</td>\n",
              "      <td>0.446966</td>\n",
              "      <td>0.014372</td>\n",
              "      <td>-0.184795</td>\n",
              "      <td>0.713208</td>\n",
              "      <td>0.119265</td>\n",
              "    </tr>\n",
              "    <tr>\n",
              "      <th>sqft_above</th>\n",
              "      <td>0.605569</td>\n",
              "      <td>0.477619</td>\n",
              "      <td>0.639963</td>\n",
              "      <td>0.876600</td>\n",
              "      <td>0.183527</td>\n",
              "      <td>0.517903</td>\n",
              "      <td>0.072080</td>\n",
              "      <td>0.167659</td>\n",
              "      <td>-0.158212</td>\n",
              "      <td>0.755919</td>\n",
              "      <td>1.000000</td>\n",
              "      <td>-0.051923</td>\n",
              "      <td>0.423922</td>\n",
              "      <td>0.023233</td>\n",
              "      <td>-0.261163</td>\n",
              "      <td>0.731870</td>\n",
              "      <td>0.194060</td>\n",
              "    </tr>\n",
              "    <tr>\n",
              "      <th>sqft_basement</th>\n",
              "      <td>0.323849</td>\n",
              "      <td>0.303077</td>\n",
              "      <td>0.250920</td>\n",
              "      <td>0.435054</td>\n",
              "      <td>0.015271</td>\n",
              "      <td>-0.235802</td>\n",
              "      <td>0.080585</td>\n",
              "      <td>0.276996</td>\n",
              "      <td>0.174071</td>\n",
              "      <td>0.168443</td>\n",
              "      <td>-0.051923</td>\n",
              "      <td>1.000000</td>\n",
              "      <td>-0.133062</td>\n",
              "      <td>0.071320</td>\n",
              "      <td>0.074781</td>\n",
              "      <td>0.200367</td>\n",
              "      <td>0.017260</td>\n",
              "    </tr>\n",
              "    <tr>\n",
              "      <th>yr_built</th>\n",
              "      <td>0.053980</td>\n",
              "      <td>0.154276</td>\n",
              "      <td>0.433608</td>\n",
              "      <td>0.318099</td>\n",
              "      <td>0.053105</td>\n",
              "      <td>0.578663</td>\n",
              "      <td>-0.026159</td>\n",
              "      <td>-0.053229</td>\n",
              "      <td>-0.361347</td>\n",
              "      <td>0.446966</td>\n",
              "      <td>0.423922</td>\n",
              "      <td>-0.133062</td>\n",
              "      <td>1.000000</td>\n",
              "      <td>-0.224729</td>\n",
              "      <td>-0.346808</td>\n",
              "      <td>0.326298</td>\n",
              "      <td>0.070999</td>\n",
              "    </tr>\n",
              "    <tr>\n",
              "      <th>yr_renovated</th>\n",
              "      <td>0.126503</td>\n",
              "      <td>0.018695</td>\n",
              "      <td>0.060698</td>\n",
              "      <td>0.055314</td>\n",
              "      <td>0.007677</td>\n",
              "      <td>-0.007979</td>\n",
              "      <td>0.092950</td>\n",
              "      <td>0.103208</td>\n",
              "      <td>-0.060862</td>\n",
              "      <td>0.014372</td>\n",
              "      <td>0.023233</td>\n",
              "      <td>0.071320</td>\n",
              "      <td>-0.224729</td>\n",
              "      <td>1.000000</td>\n",
              "      <td>0.064388</td>\n",
              "      <td>-0.002841</td>\n",
              "      <td>0.007837</td>\n",
              "    </tr>\n",
              "    <tr>\n",
              "      <th>zipcode</th>\n",
              "      <td>-0.053162</td>\n",
              "      <td>-0.152721</td>\n",
              "      <td>-0.159755</td>\n",
              "      <td>-0.199435</td>\n",
              "      <td>-0.129611</td>\n",
              "      <td>-0.096645</td>\n",
              "      <td>0.030277</td>\n",
              "      <td>0.084838</td>\n",
              "      <td>0.002962</td>\n",
              "      <td>-0.184795</td>\n",
              "      <td>-0.261163</td>\n",
              "      <td>0.074781</td>\n",
              "      <td>-0.346808</td>\n",
              "      <td>0.064388</td>\n",
              "      <td>1.000000</td>\n",
              "      <td>-0.279033</td>\n",
              "      <td>-0.147257</td>\n",
              "    </tr>\n",
              "    <tr>\n",
              "      <th>sqft_living15</th>\n",
              "      <td>0.585382</td>\n",
              "      <td>0.391633</td>\n",
              "      <td>0.510106</td>\n",
              "      <td>0.756420</td>\n",
              "      <td>0.144620</td>\n",
              "      <td>0.296537</td>\n",
              "      <td>0.086469</td>\n",
              "      <td>0.280404</td>\n",
              "      <td>-0.092854</td>\n",
              "      <td>0.713208</td>\n",
              "      <td>0.731870</td>\n",
              "      <td>0.200367</td>\n",
              "      <td>0.326298</td>\n",
              "      <td>-0.002841</td>\n",
              "      <td>-0.279033</td>\n",
              "      <td>1.000000</td>\n",
              "      <td>0.183194</td>\n",
              "    </tr>\n",
              "    <tr>\n",
              "      <th>sqft_lot15</th>\n",
              "      <td>0.082457</td>\n",
              "      <td>0.029233</td>\n",
              "      <td>0.080794</td>\n",
              "      <td>0.183285</td>\n",
              "      <td>0.718556</td>\n",
              "      <td>-0.013232</td>\n",
              "      <td>0.030702</td>\n",
              "      <td>0.072577</td>\n",
              "      <td>-0.003424</td>\n",
              "      <td>0.119265</td>\n",
              "      <td>0.194060</td>\n",
              "      <td>0.017260</td>\n",
              "      <td>0.070999</td>\n",
              "      <td>0.007837</td>\n",
              "      <td>-0.147257</td>\n",
              "      <td>0.183194</td>\n",
              "      <td>1.000000</td>\n",
              "    </tr>\n",
              "  </tbody>\n",
              "</table>\n",
              "</div>"
            ],
            "text/plain": [
              "                  price  bedrooms  ...  sqft_living15  sqft_lot15\n",
              "price          1.000000  0.308346  ...       0.585382    0.082457\n",
              "bedrooms       0.308346  1.000000  ...       0.391633    0.029233\n",
              "bathrooms      0.510096  0.467519  ...       0.510106    0.080794\n",
              "sqft_living    0.702046  0.576674  ...       0.756420    0.183285\n",
              "sqft_lot       0.089658  0.031699  ...       0.144620    0.718556\n",
              "floors         0.237215  0.155663  ...       0.296537   -0.013232\n",
              "waterfront     0.266332 -0.006583  ...       0.086469    0.030702\n",
              "view           0.397466  0.079433  ...       0.280404    0.072577\n",
              "condition      0.036397  0.028422  ...      -0.092854   -0.003424\n",
              "grade          0.667478  0.357003  ...       0.713208    0.119265\n",
              "sqft_above     0.605569  0.477619  ...       0.731870    0.194060\n",
              "sqft_basement  0.323849  0.303077  ...       0.200367    0.017260\n",
              "yr_built       0.053980  0.154276  ...       0.326298    0.070999\n",
              "yr_renovated   0.126503  0.018695  ...      -0.002841    0.007837\n",
              "zipcode       -0.053162 -0.152721  ...      -0.279033   -0.147257\n",
              "sqft_living15  0.585382  0.391633  ...       1.000000    0.183194\n",
              "sqft_lot15     0.082457  0.029233  ...       0.183194    1.000000\n",
              "\n",
              "[17 rows x 17 columns]"
            ]
          },
          "metadata": {
            "tags": []
          },
          "execution_count": 13
        }
      ]
    },
    {
      "cell_type": "code",
      "metadata": {
        "id": "6edp0Cxfi6-i",
        "colab_type": "code",
        "colab": {
          "base_uri": "https://localhost:8080/",
          "height": 584
        },
        "outputId": "3581d0dd-86f0-4fb0-b52e-1f4243486d09"
      },
      "source": [
        "VIF=pd.DataFrame(np.linalg.inv(correlation.values), index = correlation.index, columns=correlation.columns)\n",
        "VIF"
      ],
      "execution_count": 14,
      "outputs": [
        {
          "output_type": "execute_result",
          "data": {
            "text/html": [
              "<div>\n",
              "<style scoped>\n",
              "    .dataframe tbody tr th:only-of-type {\n",
              "        vertical-align: middle;\n",
              "    }\n",
              "\n",
              "    .dataframe tbody tr th {\n",
              "        vertical-align: top;\n",
              "    }\n",
              "\n",
              "    .dataframe thead th {\n",
              "        text-align: right;\n",
              "    }\n",
              "</style>\n",
              "<table border=\"1\" class=\"dataframe\">\n",
              "  <thead>\n",
              "    <tr style=\"text-align: right;\">\n",
              "      <th></th>\n",
              "      <th>price</th>\n",
              "      <th>bedrooms</th>\n",
              "      <th>bathrooms</th>\n",
              "      <th>sqft_living</th>\n",
              "      <th>sqft_lot</th>\n",
              "      <th>floors</th>\n",
              "      <th>waterfront</th>\n",
              "      <th>view</th>\n",
              "      <th>condition</th>\n",
              "      <th>grade</th>\n",
              "      <th>sqft_above</th>\n",
              "      <th>sqft_basement</th>\n",
              "      <th>yr_built</th>\n",
              "      <th>yr_renovated</th>\n",
              "      <th>zipcode</th>\n",
              "      <th>sqft_living15</th>\n",
              "      <th>sqft_lot15</th>\n",
              "    </tr>\n",
              "  </thead>\n",
              "  <tbody>\n",
              "    <tr>\n",
              "      <th>price</th>\n",
              "      <td>2.904985</td>\n",
              "      <td>0.283587</td>\n",
              "      <td>-0.315271</td>\n",
              "      <td>-5.486625e-01</td>\n",
              "      <td>0.002634</td>\n",
              "      <td>-0.102882</td>\n",
              "      <td>-0.397575</td>\n",
              "      <td>-0.261696</td>\n",
              "      <td>-0.105936</td>\n",
              "      <td>-1.118233</td>\n",
              "      <td>-5.422070e-01</td>\n",
              "      <td>-3.130487e-01</td>\n",
              "      <td>0.828353</td>\n",
              "      <td>-0.031191</td>\n",
              "      <td>0.005118</td>\n",
              "      <td>-0.140589</td>\n",
              "      <td>0.117915</td>\n",
              "    </tr>\n",
              "    <tr>\n",
              "      <th>bedrooms</th>\n",
              "      <td>0.283587</td>\n",
              "      <td>1.647665</td>\n",
              "      <td>-0.318353</td>\n",
              "      <td>-8.612437e-01</td>\n",
              "      <td>0.051157</td>\n",
              "      <td>0.067510</td>\n",
              "      <td>0.022804</td>\n",
              "      <td>0.080232</td>\n",
              "      <td>-0.075390</td>\n",
              "      <td>0.178181</td>\n",
              "      <td>-2.795761e-01</td>\n",
              "      <td>-1.748549e-01</td>\n",
              "      <td>0.111809</td>\n",
              "      <td>0.020990</td>\n",
              "      <td>0.082664</td>\n",
              "      <td>0.023674</td>\n",
              "      <td>0.105089</td>\n",
              "    </tr>\n",
              "    <tr>\n",
              "      <th>bathrooms</th>\n",
              "      <td>-0.315271</td>\n",
              "      <td>-0.318353</td>\n",
              "      <td>2.444319</td>\n",
              "      <td>-1.589459e+00</td>\n",
              "      <td>-0.026360</td>\n",
              "      <td>-0.509366</td>\n",
              "      <td>0.059194</td>\n",
              "      <td>-0.007794</td>\n",
              "      <td>-0.028686</td>\n",
              "      <td>-0.054027</td>\n",
              "      <td>5.542293e-01</td>\n",
              "      <td>1.086875e-01</td>\n",
              "      <td>-0.501830</td>\n",
              "      <td>-0.155453</td>\n",
              "      <td>-0.028995</td>\n",
              "      <td>0.173544</td>\n",
              "      <td>0.037833</td>\n",
              "    </tr>\n",
              "    <tr>\n",
              "      <th>sqft_living</th>\n",
              "      <td>-0.548844</td>\n",
              "      <td>-0.863351</td>\n",
              "      <td>-1.592066</td>\n",
              "      <td>1.805120e+13</td>\n",
              "      <td>-0.143135</td>\n",
              "      <td>-0.055412</td>\n",
              "      <td>0.000390</td>\n",
              "      <td>0.078849</td>\n",
              "      <td>-0.342706</td>\n",
              "      <td>-1.474780</td>\n",
              "      <td>-1.627533e+13</td>\n",
              "      <td>-8.698312e+12</td>\n",
              "      <td>0.652186</td>\n",
              "      <td>0.208379</td>\n",
              "      <td>-0.074777</td>\n",
              "      <td>-1.419203</td>\n",
              "      <td>-0.159963</td>\n",
              "    </tr>\n",
              "    <tr>\n",
              "      <th>sqft_lot</th>\n",
              "      <td>0.002634</td>\n",
              "      <td>0.051157</td>\n",
              "      <td>-0.026360</td>\n",
              "      <td>-1.429955e-01</td>\n",
              "      <td>2.091444</td>\n",
              "      <td>0.070525</td>\n",
              "      <td>0.028551</td>\n",
              "      <td>-0.058948</td>\n",
              "      <td>0.027284</td>\n",
              "      <td>-0.014074</td>\n",
              "      <td>-9.810351e-02</td>\n",
              "      <td>4.077695e-02</td>\n",
              "      <td>0.041137</td>\n",
              "      <td>0.014585</td>\n",
              "      <td>0.061697</td>\n",
              "      <td>0.140238</td>\n",
              "      <td>-1.471408</td>\n",
              "    </tr>\n",
              "    <tr>\n",
              "      <th>floors</th>\n",
              "      <td>-0.102882</td>\n",
              "      <td>0.067510</td>\n",
              "      <td>-0.509366</td>\n",
              "      <td>-5.196530e-02</td>\n",
              "      <td>0.070525</td>\n",
              "      <td>2.148938</td>\n",
              "      <td>0.009521</td>\n",
              "      <td>-0.031491</td>\n",
              "      <td>0.085350</td>\n",
              "      <td>-0.282630</td>\n",
              "      <td>-3.775580e-01</td>\n",
              "      <td>5.560176e-01</td>\n",
              "      <td>-0.830408</td>\n",
              "      <td>-0.127511</td>\n",
              "      <td>-0.254807</td>\n",
              "      <td>0.246947</td>\n",
              "      <td>0.111823</td>\n",
              "    </tr>\n",
              "    <tr>\n",
              "      <th>waterfront</th>\n",
              "      <td>-0.397575</td>\n",
              "      <td>0.022804</td>\n",
              "      <td>0.059194</td>\n",
              "      <td>1.435842e-03</td>\n",
              "      <td>0.028551</td>\n",
              "      <td>0.009521</td>\n",
              "      <td>1.257933</td>\n",
              "      <td>-0.459503</td>\n",
              "      <td>0.001436</td>\n",
              "      <td>0.198338</td>\n",
              "      <td>2.782564e-02</td>\n",
              "      <td>7.213471e-02</td>\n",
              "      <td>-0.130845</td>\n",
              "      <td>-0.061742</td>\n",
              "      <td>0.012717</td>\n",
              "      <td>0.081474</td>\n",
              "      <td>-0.032160</td>\n",
              "    </tr>\n",
              "    <tr>\n",
              "      <th>view</th>\n",
              "      <td>-0.261696</td>\n",
              "      <td>0.080232</td>\n",
              "      <td>-0.007794</td>\n",
              "      <td>7.719576e-02</td>\n",
              "      <td>-0.058948</td>\n",
              "      <td>-0.031491</td>\n",
              "      <td>-0.459503</td>\n",
              "      <td>1.443505</td>\n",
              "      <td>-0.019101</td>\n",
              "      <td>-0.068264</td>\n",
              "      <td>5.923755e-02</td>\n",
              "      <td>-2.420153e-01</td>\n",
              "      <td>0.070265</td>\n",
              "      <td>-0.038356</td>\n",
              "      <td>-0.141317</td>\n",
              "      <td>-0.287398</td>\n",
              "      <td>-0.015079</td>\n",
              "    </tr>\n",
              "    <tr>\n",
              "      <th>condition</th>\n",
              "      <td>-0.105936</td>\n",
              "      <td>-0.075390</td>\n",
              "      <td>-0.028686</td>\n",
              "      <td>-3.421370e-01</td>\n",
              "      <td>0.027284</td>\n",
              "      <td>0.085350</td>\n",
              "      <td>0.001436</td>\n",
              "      <td>-0.019101</td>\n",
              "      <td>1.245166</td>\n",
              "      <td>-0.003869</td>\n",
              "      <td>3.603337e-01</td>\n",
              "      <td>5.994673e-02</td>\n",
              "      <td>0.474628</td>\n",
              "      <td>0.196574</td>\n",
              "      <td>0.179678</td>\n",
              "      <td>0.085361</td>\n",
              "      <td>-0.031794</td>\n",
              "    </tr>\n",
              "    <tr>\n",
              "      <th>grade</th>\n",
              "      <td>-1.118233</td>\n",
              "      <td>0.178181</td>\n",
              "      <td>-0.054027</td>\n",
              "      <td>-1.475840e+00</td>\n",
              "      <td>-0.014074</td>\n",
              "      <td>-0.282630</td>\n",
              "      <td>0.198338</td>\n",
              "      <td>-0.068264</td>\n",
              "      <td>-0.003869</td>\n",
              "      <td>3.663830</td>\n",
              "      <td>1.816246e-01</td>\n",
              "      <td>3.630619e-01</td>\n",
              "      <td>-0.780327</td>\n",
              "      <td>-0.042121</td>\n",
              "      <td>-0.148740</td>\n",
              "      <td>-0.802509</td>\n",
              "      <td>0.069387</td>\n",
              "    </tr>\n",
              "    <tr>\n",
              "      <th>sqft_above</th>\n",
              "      <td>-0.543147</td>\n",
              "      <td>-0.277324</td>\n",
              "      <td>0.556397</td>\n",
              "      <td>-1.627533e+13</td>\n",
              "      <td>-0.097903</td>\n",
              "      <td>-0.374556</td>\n",
              "      <td>0.028749</td>\n",
              "      <td>0.057683</td>\n",
              "      <td>0.360717</td>\n",
              "      <td>0.180997</td>\n",
              "      <td>1.467417e+13</td>\n",
              "      <td>7.842577e+12</td>\n",
              "      <td>-0.604697</td>\n",
              "      <td>-0.218904</td>\n",
              "      <td>0.165723</td>\n",
              "      <td>-0.255007</td>\n",
              "      <td>-0.100721</td>\n",
              "    </tr>\n",
              "    <tr>\n",
              "      <th>sqft_basement</th>\n",
              "      <td>-0.311818</td>\n",
              "      <td>-0.175294</td>\n",
              "      <td>0.109613</td>\n",
              "      <td>-8.698312e+12</td>\n",
              "      <td>0.040902</td>\n",
              "      <td>0.557922</td>\n",
              "      <td>0.072646</td>\n",
              "      <td>-0.242940</td>\n",
              "      <td>0.060111</td>\n",
              "      <td>0.362617</td>\n",
              "      <td>7.842577e+12</td>\n",
              "      <td>4.191446e+12</td>\n",
              "      <td>-0.383219</td>\n",
              "      <td>-0.140837</td>\n",
              "      <td>-0.102832</td>\n",
              "      <td>0.231998</td>\n",
              "      <td>0.019589</td>\n",
              "    </tr>\n",
              "    <tr>\n",
              "      <th>yr_built</th>\n",
              "      <td>0.828353</td>\n",
              "      <td>0.111809</td>\n",
              "      <td>-0.501830</td>\n",
              "      <td>6.508828e-01</td>\n",
              "      <td>0.041137</td>\n",
              "      <td>-0.830408</td>\n",
              "      <td>-0.130845</td>\n",
              "      <td>0.070265</td>\n",
              "      <td>0.474628</td>\n",
              "      <td>-0.780327</td>\n",
              "      <td>-6.035221e-01</td>\n",
              "      <td>-3.825914e-01</td>\n",
              "      <td>2.479450</td>\n",
              "      <td>0.488177</td>\n",
              "      <td>0.563855</td>\n",
              "      <td>-0.053389</td>\n",
              "      <td>-0.060591</td>\n",
              "    </tr>\n",
              "    <tr>\n",
              "      <th>yr_renovated</th>\n",
              "      <td>-0.031191</td>\n",
              "      <td>0.020990</td>\n",
              "      <td>-0.155453</td>\n",
              "      <td>2.084783e-01</td>\n",
              "      <td>0.014585</td>\n",
              "      <td>-0.127511</td>\n",
              "      <td>-0.061742</td>\n",
              "      <td>-0.038356</td>\n",
              "      <td>0.196574</td>\n",
              "      <td>-0.042121</td>\n",
              "      <td>-2.189939e-01</td>\n",
              "      <td>-1.408850e-01</td>\n",
              "      <td>0.488177</td>\n",
              "      <td>1.143131</td>\n",
              "      <td>0.074507</td>\n",
              "      <td>0.090434</td>\n",
              "      <td>-0.029768</td>\n",
              "    </tr>\n",
              "    <tr>\n",
              "      <th>zipcode</th>\n",
              "      <td>0.005118</td>\n",
              "      <td>0.082664</td>\n",
              "      <td>-0.028995</td>\n",
              "      <td>-7.476509e-02</td>\n",
              "      <td>0.061697</td>\n",
              "      <td>-0.254807</td>\n",
              "      <td>0.012717</td>\n",
              "      <td>-0.141317</td>\n",
              "      <td>0.179678</td>\n",
              "      <td>-0.148740</td>\n",
              "      <td>1.657124e-01</td>\n",
              "      <td>-1.028374e-01</td>\n",
              "      <td>0.563855</td>\n",
              "      <td>0.074507</td>\n",
              "      <td>1.302887</td>\n",
              "      <td>0.333195</td>\n",
              "      <td>0.053544</td>\n",
              "    </tr>\n",
              "    <tr>\n",
              "      <th>sqft_living15</th>\n",
              "      <td>-0.140589</td>\n",
              "      <td>0.023674</td>\n",
              "      <td>0.173544</td>\n",
              "      <td>-1.409992e+00</td>\n",
              "      <td>0.140238</td>\n",
              "      <td>0.246947</td>\n",
              "      <td>0.081474</td>\n",
              "      <td>-0.287398</td>\n",
              "      <td>0.085361</td>\n",
              "      <td>-0.802509</td>\n",
              "      <td>-2.633108e-01</td>\n",
              "      <td>2.275601e-01</td>\n",
              "      <td>-0.053389</td>\n",
              "      <td>0.090434</td>\n",
              "      <td>0.333195</td>\n",
              "      <td>2.898339</td>\n",
              "      <td>-0.159472</td>\n",
              "    </tr>\n",
              "    <tr>\n",
              "      <th>sqft_lot15</th>\n",
              "      <td>0.117915</td>\n",
              "      <td>0.105089</td>\n",
              "      <td>0.037833</td>\n",
              "      <td>-1.596442e-01</td>\n",
              "      <td>-1.471408</td>\n",
              "      <td>0.111823</td>\n",
              "      <td>-0.032160</td>\n",
              "      <td>-0.015079</td>\n",
              "      <td>-0.031794</td>\n",
              "      <td>0.069387</td>\n",
              "      <td>-1.010088e-01</td>\n",
              "      <td>1.943496e-02</td>\n",
              "      <td>-0.060591</td>\n",
              "      <td>-0.029768</td>\n",
              "      <td>0.053544</td>\n",
              "      <td>-0.159472</td>\n",
              "      <td>2.126776</td>\n",
              "    </tr>\n",
              "  </tbody>\n",
              "</table>\n",
              "</div>"
            ],
            "text/plain": [
              "                  price  bedrooms  ...  sqft_living15  sqft_lot15\n",
              "price          2.904985  0.283587  ...      -0.140589    0.117915\n",
              "bedrooms       0.283587  1.647665  ...       0.023674    0.105089\n",
              "bathrooms     -0.315271 -0.318353  ...       0.173544    0.037833\n",
              "sqft_living   -0.548844 -0.863351  ...      -1.419203   -0.159963\n",
              "sqft_lot       0.002634  0.051157  ...       0.140238   -1.471408\n",
              "floors        -0.102882  0.067510  ...       0.246947    0.111823\n",
              "waterfront    -0.397575  0.022804  ...       0.081474   -0.032160\n",
              "view          -0.261696  0.080232  ...      -0.287398   -0.015079\n",
              "condition     -0.105936 -0.075390  ...       0.085361   -0.031794\n",
              "grade         -1.118233  0.178181  ...      -0.802509    0.069387\n",
              "sqft_above    -0.543147 -0.277324  ...      -0.255007   -0.100721\n",
              "sqft_basement -0.311818 -0.175294  ...       0.231998    0.019589\n",
              "yr_built       0.828353  0.111809  ...      -0.053389   -0.060591\n",
              "yr_renovated  -0.031191  0.020990  ...       0.090434   -0.029768\n",
              "zipcode        0.005118  0.082664  ...       0.333195    0.053544\n",
              "sqft_living15 -0.140589  0.023674  ...       2.898339   -0.159472\n",
              "sqft_lot15     0.117915  0.105089  ...      -0.159472    2.126776\n",
              "\n",
              "[17 rows x 17 columns]"
            ]
          },
          "metadata": {
            "tags": []
          },
          "execution_count": 14
        }
      ]
    },
    {
      "cell_type": "code",
      "metadata": {
        "id": "-pu0V67XjNuo",
        "colab_type": "code",
        "colab": {
          "base_uri": "https://localhost:8080/",
          "height": 795
        },
        "outputId": "fb04886b-63d8-4b85-88e9-87ebef5097e8"
      },
      "source": [
        "# Plotting visualisation of the matrix for better clarity \n",
        "\n",
        "plt.figure(figsize=(12, 12))  \n",
        "\n",
        "# Creating our visualisation  \n",
        "# \n",
        "sns.heatmap(correlation, annot = True) "
      ],
      "execution_count": 140,
      "outputs": [
        {
          "output_type": "execute_result",
          "data": {
            "text/plain": [
              "<matplotlib.axes._subplots.AxesSubplot at 0x7ff2e3077a58>"
            ]
          },
          "metadata": {
            "tags": []
          },
          "execution_count": 140
        },
        {
          "output_type": "display_data",
          "data": {
            "image/png": "[encoded data removed]",
            "text/plain": [
              "<Figure size 864x864 with 2 Axes>"
            ]
          },
          "metadata": {
            "tags": []
          }
        }
      ]
    },
    {
      "cell_type": "markdown",
      "metadata": {
        "id": "lEjwd0KfUcyz",
        "colab_type": "text"
      },
      "source": [
        "From the heatmap,\n",
        "\n",
        "the self relation is 1 as always. this is the relation of a variable to itself\n",
        "price is highly correlated to Price of square foot living room and grade of the house and very low correlation with zip code.\n"
      ]
    },
    {
      "cell_type": "markdown",
      "metadata": {
        "id": "Q2w_qbvoVypz",
        "colab_type": "text"
      },
      "source": [
        "Multiple Regression"
      ]
    },
    {
      "cell_type": "code",
      "metadata": {
        "id": "bcl-IUyTlh_A",
        "colab_type": "code",
        "colab": {}
      },
      "source": [
        "#Model training the Baseline model.\n",
        "X = house_df.drop(['price'], axis=1)\n",
        "y = house_df['price']"
      ],
      "execution_count": 21,
      "outputs": []
    },
    {
      "cell_type": "code",
      "metadata": {
        "id": "WmlC27DWliPR",
        "colab_type": "code",
        "colab": {
          "base_uri": "https://localhost:8080/",
          "height": 35
        },
        "outputId": "059aee12-7191-4701-eb02-1a7f96237812"
      },
      "source": [
        "from sklearn.model_selection import train_test_split\n",
        "X_train, X_test, y_train, y_test = train_test_split(X, y, test_size = 0.2, random_state = 100)\n",
        "regressor = LinearRegression()\n",
        "regressor.fit(X,y)\n",
        "\n"
      ],
      "execution_count": 34,
      "outputs": [
        {
          "output_type": "execute_result",
          "data": {
            "text/plain": [
              "LinearRegression(copy_X=True, fit_intercept=True, n_jobs=None, normalize=False)"
            ]
          },
          "metadata": {
            "tags": []
          },
          "execution_count": 34
        }
      ]
    },
    {
      "cell_type": "code",
      "metadata": {
        "id": "wHXM9r3Fm11l",
        "colab_type": "code",
        "colab": {
          "base_uri": "https://localhost:8080/",
          "height": 200
        },
        "outputId": "3ebb59b1-7e1d-43d6-c2f7-d4eacd78512f"
      },
      "source": [
        "# This is our prediction for admission based on our model\n",
        "y_pred = regressor.predict(X_test)\n",
        "\n",
        "#Checking difference between the actual and predicted \n",
        "diff = pd.DataFrame({'Actual':y_test,'Predicted':y_pred})\n",
        "diff.head()\n",
        "\n"
      ],
      "execution_count": 35,
      "outputs": [
        {
          "output_type": "execute_result",
          "data": {
            "text/html": [
              "<div>\n",
              "<style scoped>\n",
              "    .dataframe tbody tr th:only-of-type {\n",
              "        vertical-align: middle;\n",
              "    }\n",
              "\n",
              "    .dataframe tbody tr th {\n",
              "        vertical-align: top;\n",
              "    }\n",
              "\n",
              "    .dataframe thead th {\n",
              "        text-align: right;\n",
              "    }\n",
              "</style>\n",
              "<table border=\"1\" class=\"dataframe\">\n",
              "  <thead>\n",
              "    <tr style=\"text-align: right;\">\n",
              "      <th></th>\n",
              "      <th>Actual</th>\n",
              "      <th>Predicted</th>\n",
              "    </tr>\n",
              "  </thead>\n",
              "  <tbody>\n",
              "    <tr>\n",
              "      <th>13410</th>\n",
              "      <td>269000.0</td>\n",
              "      <td>156978.412344</td>\n",
              "    </tr>\n",
              "    <tr>\n",
              "      <th>13564</th>\n",
              "      <td>299000.0</td>\n",
              "      <td>297527.610305</td>\n",
              "    </tr>\n",
              "    <tr>\n",
              "      <th>14037</th>\n",
              "      <td>1080000.0</td>\n",
              "      <td>892774.262169</td>\n",
              "    </tr>\n",
              "    <tr>\n",
              "      <th>5586</th>\n",
              "      <td>365000.0</td>\n",
              "      <td>333677.198723</td>\n",
              "    </tr>\n",
              "    <tr>\n",
              "      <th>7969</th>\n",
              "      <td>500000.0</td>\n",
              "      <td>617747.089061</td>\n",
              "    </tr>\n",
              "  </tbody>\n",
              "</table>\n",
              "</div>"
            ],
            "text/plain": [
              "          Actual      Predicted\n",
              "13410   269000.0  156978.412344\n",
              "13564   299000.0  297527.610305\n",
              "14037  1080000.0  892774.262169\n",
              "5586    365000.0  333677.198723\n",
              "7969    500000.0  617747.089061"
            ]
          },
          "metadata": {
            "tags": []
          },
          "execution_count": 35
        }
      ]
    },
    {
      "cell_type": "markdown",
      "metadata": {
        "id": "XZG6B9hzy5Oq",
        "colab_type": "text"
      },
      "source": [
        "The table above shows the difference between the actual and predicted values in the model."
      ]
    },
    {
      "cell_type": "code",
      "metadata": {
        "id": "gWzAXXJhpHet",
        "colab_type": "code",
        "colab": {
          "base_uri": "https://localhost:8080/",
          "height": 195
        },
        "outputId": "e24f4f4e-5f60-4e91-ac32-64a8eaafba9c"
      },
      "source": [
        "# We now create the residual by substracting the test value from the predicted \n",
        "# value for each row in our dataset\n",
        "\n",
        "residuals = np.subtract(y_pred, y_test)\n",
        "\n",
        "# Let's describe our residual:\n",
        "print(pd.DataFrame(residuals).describe())\n",
        "\n",
        "residuals.mean()"
      ],
      "execution_count": 36,
      "outputs": [
        {
          "output_type": "stream",
          "text": [
            "              price\n",
            "count  4.322000e+03\n",
            "mean  -1.960552e+03\n",
            "std    2.204302e+05\n",
            "min   -3.952548e+06\n",
            "25%   -9.119888e+04\n",
            "50%    1.121968e+04\n",
            "75%    1.088822e+05\n",
            "max    1.150001e+06\n"
          ],
          "name": "stdout"
        },
        {
          "output_type": "execute_result",
          "data": {
            "text/plain": [
              "-1960.5518259149667"
            ]
          },
          "metadata": {
            "tags": []
          },
          "execution_count": 36
        }
      ]
    },
    {
      "cell_type": "code",
      "metadata": {
        "id": "xJxqz3MAx6XT",
        "colab_type": "code",
        "colab": {
          "base_uri": "https://localhost:8080/",
          "height": 296
        },
        "outputId": "9a65813e-a673-4148-9a1b-75dba92b4935"
      },
      "source": [
        "# a plot to find the residual plot\n",
        "plt.scatter(y_pred, residuals, color='Blue')\n",
        "plt.ylabel('residual')\n",
        "plt.xlabel('fitted values')\n",
        "plt.axhline(y= residuals.mean(), color='black', linewidth=1)\n",
        "plt.show()"
      ],
      "execution_count": 37,
      "outputs": [
        {
          "output_type": "display_data",
          "data": {
            "image/png": "[encoded data removed]",
            "text/plain": [
              "<Figure size 432x288 with 1 Axes>"
            ]
          },
          "metadata": {
            "tags": [],
            "needs_background": "light"
          }
        }
      ]
    },
    {
      "cell_type": "markdown",
      "metadata": {
        "id": "ULOcud0pjHHI",
        "colab_type": "text"
      },
      "source": [
        "I  notice that the mean is centered around 0 and most of our data is close to this value but we do have some on the negative side that are far from this mean. To find if there are any patterns in the data we perfom a heteroskedasticity test."
      ]
    },
    {
      "cell_type": "markdown",
      "metadata": {
        "id": "WDoLHlo8nzQv",
        "colab_type": "text"
      },
      "source": [
        "**Test for heteroskedasticity**\n"
      ]
    },
    {
      "cell_type": "code",
      "metadata": {
        "id": "EoIv7ffOn6Hj",
        "colab_type": "code",
        "colab": {
          "base_uri": "https://localhost:8080/",
          "height": 70
        },
        "outputId": "5b7897f2-4eba-4852-8b6c-c75d3029c0cc"
      },
      "source": [
        "import scipy as sp\n",
        "\n",
        "test_result, p_value = sp.stats.bartlett(y_pred, residuals)\n",
        "\n",
        "# To interpret the results we must also compute a critical value of the chi squared distribution\n",
        "degree_of_freedom = len(y_pred)-1\n",
        "probability = 1 - p_value\n",
        "\n",
        "critical_value = sp.stats.chi2.ppf(probability, degree_of_freedom)\n",
        "print(critical_value)\n",
        "print(p_value)\n",
        "\n",
        "# If the test_result is greater than the critical value, then we reject our null\n",
        "# hypothesis. This would mean that there are patterns to the variance of the data\n",
        "\n",
        "# Otherwise, we can identify no patterns, and we accept the null hypothesis that \n",
        "# the variance is homogeneous across our data\n",
        "\n",
        "if (test_result > critical_value):\n",
        "  print('the variances are unequal, and the model should be reassessed')\n",
        "else:\n",
        "  print('the variances are homogeneous!')\n",
        "\n"
      ],
      "execution_count": 38,
      "outputs": [
        {
          "output_type": "stream",
          "text": [
            "inf\n",
            "1.890274162963798e-87\n",
            "the variances are homogeneous!\n"
          ],
          "name": "stdout"
        }
      ]
    },
    {
      "cell_type": "markdown",
      "metadata": {
        "id": "a8snkEdSoCIQ",
        "colab_type": "text"
      },
      "source": [
        " Using bartlett's test establishes a null hypothesis that the variance is equal for all our datapoints, and the alternate hypothesis that the variance is different for at least one pair of datapoints.\n",
        "\n"
      ]
    },
    {
      "cell_type": "code",
      "metadata": {
        "id": "yiAKVgcRsY6m",
        "colab_type": "code",
        "colab": {
          "base_uri": "https://localhost:8080/",
          "height": 52
        },
        "outputId": "fa5e6e25-68b8-4394-b4d7-8a2444d7928f"
      },
      "source": [
        "## Creating a linear regression model regression on the above dataset\n",
        "#\n",
        "from sklearn.linear_model import LinearRegression\n",
        "\n",
        "model1 = LinearRegression(fit_intercept = True, normalize = True)\n",
        "model1.fit(X, y)\n",
        "\n",
        "y_pred1 = model1.predict(X)\n",
        "\n",
        "print(\"Mean squared error: {0:.2f}\"\n",
        "      .format(np.mean((y_pred1 - y) ** 2)))\n",
        "print('Variance score: {0:.2f}'.format(model1.score(X, y)))\n"
      ],
      "execution_count": 39,
      "outputs": [
        {
          "output_type": "stream",
          "text": [
            "Mean squared error: 46460610391.35\n",
            "Variance score: 0.66\n"
          ],
          "name": "stdout"
        }
      ]
    },
    {
      "cell_type": "markdown",
      "metadata": {
        "id": "MmHUOJIizNxY",
        "colab_type": "text"
      },
      "source": [
        "This is a high variance, let me try reduce it using Quantile regression"
      ]
    },
    {
      "cell_type": "markdown",
      "metadata": {
        "id": "tlJvjnBazbUI",
        "colab_type": "text"
      },
      "source": [
        "#Quantile Regression"
      ]
    },
    {
      "cell_type": "code",
      "metadata": {
        "id": "01At-Tjwj7jS",
        "colab_type": "code",
        "colab": {
          "base_uri": "https://localhost:8080/",
          "height": 1000
        },
        "outputId": "21de672a-8a00-46d1-e018-81c9f30379db"
      },
      "source": [
        "# prepare the quantile that we want to work with\n",
        "#quantile reg\n",
        "import statsmodels.formula.api as smf\n",
        "quantiles = np.arange(0.1,1,0.1)\n",
        "models = []\n",
        "params = []\n",
        "# loop to change the columns\n",
        "for i in np.arange(0,12,1):\n",
        "  x = X.iloc[:,i]\n",
        "  mod = smf.quantreg('y ~ x', house_df)\n",
        "  # loop to calculate the quantile data\n",
        "  for qt in quantiles:\n",
        "    \n",
        "    res = mod.fit(q = qt)\n",
        "    models.append(res)\n",
        "    params.append([qt, res.params['Intercept'], res.params['x']] + res.conf_int().loc['x'].tolist())\n",
        "params = pd.DataFrame(data = params, columns = ['qt', 'intercept', 'x_coef', 'cf_lower_bound', 'cf_upper_bound'])\n",
        "print(params)"
      ],
      "execution_count": 28,
      "outputs": [
        {
          "output_type": "stream",
          "text": [
            "/usr/local/lib/python3.6/dist-packages/statsmodels/regression/quantile_regression.py:192: IterationLimitWarning: Maximum number of iterations (1000) reached.\n",
            "  \") reached.\", IterationLimitWarning)\n",
            "/usr/local/lib/python3.6/dist-packages/statsmodels/regression/quantile_regression.py:192: IterationLimitWarning: Maximum number of iterations (1000) reached.\n",
            "  \") reached.\", IterationLimitWarning)\n",
            "/usr/local/lib/python3.6/dist-packages/statsmodels/regression/quantile_regression.py:192: IterationLimitWarning: Maximum number of iterations (1000) reached.\n",
            "  \") reached.\", IterationLimitWarning)\n",
            "/usr/local/lib/python3.6/dist-packages/statsmodels/regression/quantile_regression.py:192: IterationLimitWarning: Maximum number of iterations (1000) reached.\n",
            "  \") reached.\", IterationLimitWarning)\n",
            "/usr/local/lib/python3.6/dist-packages/statsmodels/regression/quantile_regression.py:192: IterationLimitWarning: Maximum number of iterations (1000) reached.\n",
            "  \") reached.\", IterationLimitWarning)\n",
            "/usr/local/lib/python3.6/dist-packages/statsmodels/regression/quantile_regression.py:192: IterationLimitWarning: Maximum number of iterations (1000) reached.\n",
            "  \") reached.\", IterationLimitWarning)\n",
            "/usr/local/lib/python3.6/dist-packages/statsmodels/regression/quantile_regression.py:192: IterationLimitWarning: Maximum number of iterations (1000) reached.\n",
            "  \") reached.\", IterationLimitWarning)\n",
            "/usr/local/lib/python3.6/dist-packages/statsmodels/regression/quantile_regression.py:192: IterationLimitWarning: Maximum number of iterations (1000) reached.\n",
            "  \") reached.\", IterationLimitWarning)\n",
            "/usr/local/lib/python3.6/dist-packages/statsmodels/regression/quantile_regression.py:192: IterationLimitWarning: Maximum number of iterations (1000) reached.\n",
            "  \") reached.\", IterationLimitWarning)\n",
            "/usr/local/lib/python3.6/dist-packages/statsmodels/regression/quantile_regression.py:192: IterationLimitWarning: Maximum number of iterations (1000) reached.\n",
            "  \") reached.\", IterationLimitWarning)\n",
            "/usr/local/lib/python3.6/dist-packages/statsmodels/regression/quantile_regression.py:192: IterationLimitWarning: Maximum number of iterations (1000) reached.\n",
            "  \") reached.\", IterationLimitWarning)\n",
            "/usr/local/lib/python3.6/dist-packages/statsmodels/regression/quantile_regression.py:192: IterationLimitWarning: Maximum number of iterations (1000) reached.\n",
            "  \") reached.\", IterationLimitWarning)\n",
            "/usr/local/lib/python3.6/dist-packages/statsmodels/regression/quantile_regression.py:192: IterationLimitWarning: Maximum number of iterations (1000) reached.\n",
            "  \") reached.\", IterationLimitWarning)\n",
            "/usr/local/lib/python3.6/dist-packages/statsmodels/regression/quantile_regression.py:192: IterationLimitWarning: Maximum number of iterations (1000) reached.\n",
            "  \") reached.\", IterationLimitWarning)\n",
            "/usr/local/lib/python3.6/dist-packages/statsmodels/regression/quantile_regression.py:192: IterationLimitWarning: Maximum number of iterations (1000) reached.\n",
            "  \") reached.\", IterationLimitWarning)\n",
            "/usr/local/lib/python3.6/dist-packages/statsmodels/regression/quantile_regression.py:192: IterationLimitWarning: Maximum number of iterations (1000) reached.\n",
            "  \") reached.\", IterationLimitWarning)\n",
            "/usr/local/lib/python3.6/dist-packages/statsmodels/regression/quantile_regression.py:192: IterationLimitWarning: Maximum number of iterations (1000) reached.\n",
            "  \") reached.\", IterationLimitWarning)\n",
            "/usr/local/lib/python3.6/dist-packages/statsmodels/regression/quantile_regression.py:192: IterationLimitWarning: Maximum number of iterations (1000) reached.\n",
            "  \") reached.\", IterationLimitWarning)\n",
            "/usr/local/lib/python3.6/dist-packages/statsmodels/regression/quantile_regression.py:192: IterationLimitWarning: Maximum number of iterations (1000) reached.\n",
            "  \") reached.\", IterationLimitWarning)\n",
            "/usr/local/lib/python3.6/dist-packages/statsmodels/regression/quantile_regression.py:192: IterationLimitWarning: Maximum number of iterations (1000) reached.\n",
            "  \") reached.\", IterationLimitWarning)\n"
          ],
          "name": "stderr"
        },
        {
          "output_type": "stream",
          "text": [
            "      qt     intercept        x_coef  cf_lower_bound  cf_upper_bound\n",
            "0    0.1  1.198000e+05  4.005000e+04    3.723010e+04    4.286990e+04\n",
            "1    0.2  1.350000e+05  5.000000e+04    4.709034e+04    5.290966e+04\n",
            "2    0.3  1.497500e+05  6.105000e+04    5.763913e+04    6.446087e+04\n",
            "3    0.4  1.650000e+05  7.250000e+04    6.871644e+04    7.628356e+04\n",
            "4    0.5  1.800000e+05  8.500000e+04    8.101103e+04    8.898897e+04\n",
            "5    0.6  1.883333e+05  1.016667e+05    9.693583e+04    1.063975e+05\n",
            "6    0.7  1.895750e+05  1.227125e+05    1.178581e+05    1.275669e+05\n",
            "7    0.8  1.910000e+05  1.520000e+05    1.455411e+05    1.584589e+05\n",
            "8    0.9  1.500000e+05  2.150000e+05    2.031568e+05    2.268432e+05\n",
            "9    0.1  1.170000e+05  8.600000e+04    8.330746e+04    8.869254e+04\n",
            "10   0.2  1.309000e+05  1.070500e+05    1.040663e+05    1.100337e+05\n",
            "11   0.3  1.399996e+05  1.300004e+05    1.262222e+05    1.337786e+05\n",
            "12   0.4  1.532525e+05  1.532475e+05    1.489744e+05    1.575206e+05\n",
            "13   0.5  1.705000e+05  1.765000e+05    1.715933e+05    1.814067e+05\n",
            "14   0.6  1.900000e+05  2.000000e+05    1.943384e+05    2.056616e+05\n",
            "15   0.7  2.083000e+05  2.292000e+05    2.228693e+05    2.355307e+05\n",
            "16   0.8  2.250000e+05  2.750000e+05    2.660644e+05    2.839356e+05\n",
            "17   0.9  2.350000e+05  3.650000e+05    3.502990e+05    3.797010e+05\n",
            "18   0.1  4.283636e+04  1.236364e+02    1.219109e+02    1.253618e+02\n",
            "19   0.2  3.409356e+04  1.518094e+02    1.497687e+02    1.538500e+02\n",
            "20   0.3  2.829457e+04  1.786822e+02    1.759676e+02    1.813967e+02\n",
            "21   0.4  3.343408e+04  2.014635e+02    1.982444e+02    2.046825e+02\n",
            "22   0.5  5.269604e+04  2.167401e+02    2.132305e+02    2.202497e+02\n",
            "23   0.6  7.281145e+04  2.306397e+02    2.272249e+02    2.340546e+02\n",
            "24   0.7  8.473630e+04  2.510274e+02    2.469851e+02    2.550697e+02\n",
            "25   0.8  8.660287e+04  2.870813e+02    2.815639e+02    2.925987e+02\n",
            "26   0.9  5.421000e+04  3.710000e+02    3.626043e+02    3.793957e+02\n",
            "27   0.1  2.133431e+05  6.975845e-01    5.700324e-01    8.251366e-01\n",
            "28   0.2  2.953649e+05  4.997817e-01    4.228681e-01    5.766952e-01\n",
            "29   0.3  3.379680e+05  6.017509e-01    5.202719e-01    6.832299e-01\n",
            "30   0.4  3.877543e+05  6.551990e-01    5.639118e-01    7.464863e-01\n",
            "31   0.5  4.370929e+05  7.233685e-01    6.341077e-01    8.126292e-01\n",
            "32   0.6  4.372942e+05  1.105530e+00    1.021847e+00    1.189214e+00\n",
            "33   0.7  5.764411e+05  1.070842e+00    9.557582e-01    1.185927e+00\n",
            "34   0.8  6.847738e+05  1.148924e+00    1.014022e+00    1.283825e+00\n",
            "35   0.9  8.477423e+05  2.533809e+00    2.353821e+00    2.713796e+00\n",
            "36   0.1  1.575000e+05  6.750000e+04    6.350315e+04    7.149685e+04\n",
            "37   0.2  1.875000e+05  7.750000e+04    7.296003e+04    8.203997e+04\n",
            "38   0.3  2.260500e+05  8.495000e+04    7.907070e+04    9.082930e+04\n",
            "39   0.4  2.617500e+05  9.525000e+04    8.873498e+04    1.017650e+05\n",
            "40   0.5  2.980000e+05  1.120000e+05    1.051374e+05    1.188626e+05\n",
            "41   0.6  3.215000e+05  1.385000e+05    1.307022e+05    1.462978e+05\n",
            "42   0.7  3.510000e+05  1.740000e+05    1.651132e+05    1.828868e+05\n",
            "43   0.8  3.930000e+05  2.120000e+05    2.013334e+05    2.226666e+05\n",
            "44   0.9  4.500000e+05  3.000000e+05    2.810053e+05    3.189947e+05\n",
            "45   0.1  2.450000e+05  2.830000e+05    2.558565e+05    3.101435e+05\n",
            "46   0.2  2.960000e+05  3.670000e+05    3.358978e+05    3.981022e+05\n",
            "47   0.3  3.450000e+05  5.240000e+05    4.892926e+05    5.587074e+05\n",
            "48   0.4  3.975001e+05  7.824999e+05    7.416314e+05    8.233684e+05\n",
            "49   0.5  4.500000e+05  9.500000e+05    9.063807e+05    9.936193e+05\n",
            "50   0.6  5.150000e+05  1.185000e+06    1.131448e+06    1.238552e+06\n",
            "51   0.7  5.900000e+05  1.410000e+06    1.346820e+06    1.473180e+06\n",
            "52   0.8  6.999500e+05  1.810050e+06    1.727303e+06    1.892797e+06\n",
            "53   0.9  8.750000e+05  2.245000e+06    2.118912e+06    2.371088e+06\n",
            "54   0.1  2.400000e+05  6.500000e+04    6.197554e+04    6.802446e+04\n",
            "55   0.2  2.887900e+05  8.810500e+04    8.472443e+04    9.148557e+04\n",
            "56   0.3  3.349980e+05  1.099110e+05    1.061550e+05    1.136670e+05\n",
            "57   0.4  3.810000e+05  1.245000e+05    1.199992e+05    1.290008e+05\n",
            "58   0.5  4.325000e+05  1.437500e+05    1.390575e+05    1.484425e+05\n",
            "59   0.6  4.900000e+05  1.700000e+05    1.639903e+05    1.760097e+05\n",
            "60   0.7  5.590000e+05  2.080000e+05    2.016200e+05    2.143800e+05\n",
            "61   0.8  6.500000e+05  2.575000e+05    2.490278e+05    2.659722e+05\n",
            "62   0.9  8.070000e+05  3.482500e+05    3.358067e+05    3.606933e+05\n",
            "63   0.1  2.510000e+05 -1.500000e+03   -5.223976e+03    2.223976e+03\n",
            "64   0.2  3.110000e+05 -4.000000e+03   -8.180617e+03    1.806165e+02\n",
            "65   0.3  3.299500e+05  5.000000e+03    3.408733e+02    9.659127e+03\n",
            "66   0.4  3.590000e+05  1.150000e+04    6.093902e+03    1.690610e+04\n",
            "67   0.5  3.925000e+05  1.750000e+04    1.159174e+04    2.340826e+04\n",
            "68   0.6  4.225000e+05  2.750000e+04    2.048895e+04    3.451105e+04\n",
            "69   0.7  4.825000e+05  3.250000e+04    2.428013e+04    4.071987e+04\n",
            "70   0.8  6.150000e+05  2.550000e+04    1.403868e+04    3.696132e+04\n",
            "71   0.9  7.500000e+05  4.000000e+04    2.143469e+04    5.856531e+04\n",
            "72   0.1 -4.513875e+05  9.876250e+04    9.746685e+04    1.000581e+05\n",
            "73   0.2 -5.842000e+05  1.229000e+05    1.212349e+05    1.245651e+05\n",
            "74   0.3 -6.365333e+05  1.359333e+05    1.340205e+05    1.378461e+05\n",
            "75   0.4 -6.799900e+05  1.474975e+05    1.453390e+05    1.496560e+05\n",
            "76   0.5 -6.960000e+05  1.551667e+05    1.527697e+05    1.575636e+05\n",
            "77   0.6 -7.337500e+05  1.662500e+05    1.635560e+05    1.689440e+05\n",
            "78   0.7 -7.850000e+05  1.800000e+05    1.764114e+05    1.835886e+05\n",
            "79   0.8 -8.800000e+05  2.033333e+05    1.985303e+05    2.081364e+05\n",
            "80   0.9 -1.083333e+06  2.483333e+05    2.398846e+05    2.567821e+05\n",
            "81   0.1  7.558915e+04  1.155039e+02    1.135947e+02    1.174130e+02\n",
            "82   0.2  7.813713e+04  1.409749e+02    1.384914e+02    1.434584e+02\n",
            "83   0.3  8.613286e+04  1.667959e+02    1.633895e+02    1.702023e+02\n",
            "84   0.4  1.051166e+05  1.871414e+02    1.833696e+02    1.909132e+02\n",
            "85   0.5  1.336614e+05  1.992032e+02    1.954486e+02    2.029578e+02\n",
            "86   0.6  1.656716e+05  2.089552e+02    2.045575e+02    2.133529e+02\n",
            "87   0.7  1.935697e+05  2.272908e+02    2.221883e+02    2.323934e+02\n",
            "88   0.8  1.863028e+05  2.852113e+02    2.786110e+02    2.918115e+02\n",
            "89   0.9  1.261972e+05  4.178404e+02    4.087462e+02    4.269345e+02\n",
            "90   0.1  2.250000e+05  9.538462e+01    9.071908e+01    1.000501e+02\n",
            "91   0.2  2.719500e+05  1.203659e+02    1.145640e+02    1.261677e+02\n",
            "92   0.3  3.150000e+05  1.500000e+02    1.437108e+02    1.562892e+02\n",
            "93   0.4  3.550000e+05  1.714286e+02    1.646247e+02    1.782325e+02\n",
            "94   0.5  4.014578e+05  1.852223e+02    1.770624e+02    1.933821e+02\n",
            "95   0.6  4.550000e+05  2.081633e+02    1.981577e+02    2.181689e+02\n",
            "96   0.7  5.300000e+05  2.251111e+02    2.122175e+02    2.380047e+02\n",
            "97   0.8  6.250000e+05  2.700000e+02    2.512671e+02    2.887328e+02\n",
            "98   0.9  7.825000e+05  4.186747e+02    3.919066e+02    4.454428e+02\n",
            "99   0.1 -1.686522e+06  9.803885e+02    9.240246e+02    1.036752e+03\n",
            "100  0.2 -1.304221e+06  8.109830e+02    7.353743e+02    8.865916e+02\n",
            "101  0.3 -6.425000e+05  5.000000e+02    4.051375e+02    5.948625e+02\n",
            "102  0.4 -1.532876e+05  2.797753e+02    1.617531e+02    3.977975e+02\n",
            "103  0.5 -8.135135e+04  2.702703e+02    1.410281e+02    3.995124e+02\n",
            "104  0.6 -1.234419e+05  3.255814e+02    1.608550e+02    4.903078e+02\n",
            "105  0.7 -2.275000e+05  4.166667e+02    2.202776e+02    6.130557e+02\n",
            "106  0.8 -5.560842e+05  6.400021e+02    3.749242e+02    9.050800e+02\n",
            "107  0.9 -5.815004e+05  7.455265e+02    3.146662e+02    1.176387e+03\n"
          ],
          "name": "stdout"
        },
        {
          "output_type": "stream",
          "text": [
            "/usr/local/lib/python3.6/dist-packages/statsmodels/regression/quantile_regression.py:192: IterationLimitWarning: Maximum number of iterations (1000) reached.\n",
            "  \") reached.\", IterationLimitWarning)\n"
          ],
          "name": "stderr"
        }
      ]
    },
    {
      "cell_type": "code",
      "metadata": {
        "id": "viXafhqkRsOO",
        "colab_type": "code",
        "colab": {
          "base_uri": "https://localhost:8080/",
          "height": 1000
        },
        "outputId": "ab092310-f0d0-475e-8f41-cd70eb15ddcc"
      },
      "source": [
        "import statsmodels.formula.api as smf\n",
        "res1 = mod.fit(q = 0.1)\n",
        "res2 = mod.fit(q = 0.2)\n",
        "res3 = mod.fit(q = 0.5)\n",
        "res4 = mod.fit(q = 0.9)\n",
        "\n",
        "# display the results \n",
        "print(\"10th Percentile: \", res1.summary(), '\\n***************\\n')\n",
        "print(\"\\n20th Percentile: \", res2.summary(), '\\n***************\\n')\n",
        "print(\"\\n50th Percentile: \", res3.summary(), '\\n***************\\n')\n",
        "print(\"\\n90th Percentile: \", res4.summary())"
      ],
      "execution_count": 29,
      "outputs": [
        {
          "output_type": "stream",
          "text": [
            "/usr/local/lib/python3.6/dist-packages/statsmodels/regression/quantile_regression.py:192: IterationLimitWarning: Maximum number of iterations (1000) reached.\n",
            "  \") reached.\", IterationLimitWarning)\n",
            "/usr/local/lib/python3.6/dist-packages/statsmodels/regression/quantile_regression.py:192: IterationLimitWarning: Maximum number of iterations (1000) reached.\n",
            "  \") reached.\", IterationLimitWarning)\n"
          ],
          "name": "stderr"
        },
        {
          "output_type": "stream",
          "text": [
            "10th Percentile:                           QuantReg Regression Results                          \n",
            "==============================================================================\n",
            "Dep. Variable:                      y   Pseudo R-squared:              0.01647\n",
            "Model:                       QuantReg   Bandwidth:                   3.475e+04\n",
            "Method:                 Least Squares   Sparsity:                    5.162e+05\n",
            "Date:                Sat, 01 Aug 2020   No. Observations:                21610\n",
            "Time:                        05:18:04   Df Residuals:                    21608\n",
            "                                        Df Model:                            1\n",
            "==============================================================================\n",
            "                 coef    std err          t      P>|t|      [0.025      0.975]\n",
            "------------------------------------------------------------------------------\n",
            "Intercept  -1.687e+06   5.67e+04    -29.751      0.000    -1.8e+06   -1.58e+06\n",
            "x            980.3885     28.756     34.093      0.000     924.025    1036.752\n",
            "==============================================================================\n",
            "\n",
            "The condition number is large, 1.32e+05. This might indicate that there are\n",
            "strong multicollinearity or other numerical problems. \n",
            "***************\n",
            "\n",
            "\n",
            "20th Percentile:                           QuantReg Regression Results                          \n",
            "==============================================================================\n",
            "Dep. Variable:                      y   Pseudo R-squared:             0.007374\n",
            "Model:                       QuantReg   Bandwidth:                   3.587e+04\n",
            "Method:                 Least Squares   Sparsity:                    4.775e+05\n",
            "Date:                Sat, 01 Aug 2020   No. Observations:                21610\n",
            "Time:                        05:18:04   Df Residuals:                    21608\n",
            "                                        Df Model:                            1\n",
            "==============================================================================\n",
            "                 coef    std err          t      P>|t|      [0.025      0.975]\n",
            "------------------------------------------------------------------------------\n",
            "Intercept  -1.304e+06    7.6e+04    -17.151      0.000   -1.45e+06   -1.16e+06\n",
            "x            810.9830     38.574     21.024      0.000     735.374     886.592\n",
            "==============================================================================\n",
            "\n",
            "The condition number is large, 1.32e+05. This might indicate that there are\n",
            "strong multicollinearity or other numerical problems. \n",
            "***************\n",
            "\n",
            "\n",
            "50th Percentile:                           QuantReg Regression Results                          \n",
            "==============================================================================\n",
            "Dep. Variable:                      y   Pseudo R-squared:            0.0005198\n",
            "Model:                       QuantReg   Bandwidth:                   4.219e+04\n",
            "Method:                 Least Squares   Sparsity:                    5.694e+05\n",
            "Date:                Sat, 01 Aug 2020   No. Observations:                21610\n",
            "Time:                        05:18:04   Df Residuals:                    21608\n",
            "                                        Df Model:                            1\n",
            "==============================================================================\n",
            "                 coef    std err          t      P>|t|      [0.025      0.975]\n",
            "------------------------------------------------------------------------------\n",
            "Intercept  -8.135e+04    1.3e+05     -0.626      0.531   -3.36e+05    1.73e+05\n",
            "x            270.2703     65.937      4.099      0.000     141.028     399.512\n",
            "==============================================================================\n",
            "\n",
            "The condition number is large, 1.32e+05. This might indicate that there are\n",
            "strong multicollinearity or other numerical problems. \n",
            "***************\n",
            "\n",
            "\n",
            "90th Percentile:                           QuantReg Regression Results                          \n",
            "==============================================================================\n",
            "Dep. Variable:                      y   Pseudo R-squared:             0.001622\n",
            "Model:                       QuantReg   Bandwidth:                   3.459e+04\n",
            "Method:                 Least Squares   Sparsity:                    2.815e+06\n",
            "Date:                Sat, 01 Aug 2020   No. Observations:                21610\n",
            "Time:                        05:18:04   Df Residuals:                    21608\n",
            "                                        Df Model:                            1\n",
            "==============================================================================\n",
            "                 coef    std err          t      P>|t|      [0.025      0.975]\n",
            "------------------------------------------------------------------------------\n",
            "Intercept  -5.815e+05   4.33e+05     -1.342      0.180   -1.43e+06    2.68e+05\n",
            "x            745.5265    219.818      3.392      0.001     314.666    1176.387\n",
            "==============================================================================\n",
            "\n",
            "The condition number is large, 1.32e+05. This might indicate that there are\n",
            "strong multicollinearity or other numerical problems.\n"
          ],
          "name": "stdout"
        },
        {
          "output_type": "stream",
          "text": [
            "/usr/local/lib/python3.6/dist-packages/statsmodels/regression/quantile_regression.py:192: IterationLimitWarning: Maximum number of iterations (1000) reached.\n",
            "  \") reached.\", IterationLimitWarning)\n"
          ],
          "name": "stderr"
        }
      ]
    },
    {
      "cell_type": "code",
      "metadata": {
        "id": "kTQ4qudsvwYk",
        "colab_type": "code",
        "colab": {
          "base_uri": "https://localhost:8080/",
          "height": 318
        },
        "outputId": "9ffefc9b-15dd-49c8-ae7d-f7268d955ebb"
      },
      "source": [
        "## Plot the changes in the quantile coeffiecients\n",
        "# \n",
        "plt.figure(6)\n",
        "params.plot(x = 'qt', y = ['x_coef','cf_lower_bound', 'cf_upper_bound'], \n",
        "\ttitle = 'Slope for different quantiles', kind ='line', style = ['b-','r--','g--'])\n",
        "plt.show()"
      ],
      "execution_count": 30,
      "outputs": [
        {
          "output_type": "display_data",
          "data": {
            "text/plain": [
              "<Figure size 432x288 with 0 Axes>"
            ]
          },
          "metadata": {
            "tags": []
          }
        },
        {
          "output_type": "display_data",
          "data": {
            "image/png": "[encoded data removed]",
            "text/plain": [
              "<Figure size 432x288 with 1 Axes>"
            ]
          },
          "metadata": {
            "tags": [],
            "needs_background": "light"
          }
        }
      ]
    },
    {
      "cell_type": "markdown",
      "metadata": {
        "id": "mWk0ksWpjRoB",
        "colab_type": "text"
      },
      "source": [
        "Advantages of Quantile \n",
        "\n",
        "It is quite beneficial when heteroscedasticity is present in the data.\n",
        "It is robust to outliers.\n",
        "The distribution of the dependent variables can be described via various quantiles.\n",
        "It is more useful than linear regression when the data is skewed.\n",
        "\n",
        "Limitation of using Quantile Regression\n",
        "\n",
        "It is to be kept in mind that the coefficients which we get in quantile regression for a particular quantile should differ significantly from those we obtain from linear regression.\n",
        "If it is not so then our usage of quantile regression isn't justifiable. This can be done by observing the confidence intervals of regression coefficients of the estimates obtained from both the regressions."
      ]
    },
    {
      "cell_type": "markdown",
      "metadata": {
        "id": "jFuiFFr2jnhq",
        "colab_type": "text"
      },
      "source": [
        "Quantile regression is not useful when their coefficients are almost similar to the multiple linear regression."
      ]
    },
    {
      "cell_type": "markdown",
      "metadata": {
        "id": "om7TYmoJ1UJM",
        "colab_type": "text"
      },
      "source": [
        "2.2 Ridge Regression"
      ]
    },
    {
      "cell_type": "code",
      "metadata": {
        "id": "WJxNtNsv1kBG",
        "colab_type": "code",
        "colab": {}
      },
      "source": [
        "# Importing our libraries\n",
        "# \n",
        "\n",
        "from sklearn.model_selection import GridSearchCV\n",
        "from sklearn.linear_model import Ridge\n",
        "from sklearn.linear_model import LinearRegression\n",
        "from sklearn.metrics import mean_squared_error"
      ],
      "execution_count": 40,
      "outputs": []
    },
    {
      "cell_type": "code",
      "metadata": {
        "id": "OOyS0pbHJ1kR",
        "colab_type": "code",
        "colab": {}
      },
      "source": [
        "a = house_df.drop(['price'], axis=1)\n",
        "b = house_df['price']"
      ],
      "execution_count": 41,
      "outputs": []
    },
    {
      "cell_type": "code",
      "metadata": {
        "id": "Z5D9iJohKBxI",
        "colab_type": "code",
        "colab": {}
      },
      "source": [
        "a_train, a_test, b_train, b_test = train_test_split(a, b, test_size = 0.2, random_state = 100)"
      ],
      "execution_count": 42,
      "outputs": []
    },
    {
      "cell_type": "code",
      "metadata": {
        "id": "nk7V0R7p1p1E",
        "colab_type": "code",
        "colab": {
          "base_uri": "https://localhost:8080/",
          "height": 35
        },
        "outputId": "85243f89-b7d9-4328-a13c-a01c62bddc10"
      },
      "source": [
        "regression = LinearRegression()\n",
        "regression.fit(a,b)\n",
        "first_model = (mean_squared_error(y_true=b,y_pred=regression.predict(a)))\n",
        "print(first_model)\n"
      ],
      "execution_count": 43,
      "outputs": [
        {
          "output_type": "stream",
          "text": [
            "46460610391.34634\n"
          ],
          "name": "stdout"
        }
      ]
    },
    {
      "cell_type": "code",
      "metadata": {
        "id": "lfq3PvWT2DTg",
        "colab_type": "code",
        "colab": {}
      },
      "source": [
        "ridge = Ridge(normalize=True)\n",
        "search = GridSearchCV(estimator=ridge,param_grid={'alpha':np.logspace(-5,2,8)},scoring='neg_mean_squared_error',n_jobs=1,refit=True,cv=10)"
      ],
      "execution_count": 44,
      "outputs": []
    },
    {
      "cell_type": "code",
      "metadata": {
        "id": "4ZoyzjEe2LRN",
        "colab_type": "code",
        "colab": {
          "base_uri": "https://localhost:8080/",
          "height": 35
        },
        "outputId": "a56b47d7-fed7-46d2-a666-8cf5c58800bd"
      },
      "source": [
        "search.fit(a,b)\n",
        "search.best_params_\n",
        "{'alpha': 0.01}\n",
        "abs(search.best_score_) "
      ],
      "execution_count": 45,
      "outputs": [
        {
          "output_type": "execute_result",
          "data": {
            "text/plain": [
              "47132415051.6591"
            ]
          },
          "metadata": {
            "tags": []
          },
          "execution_count": 45
        }
      ]
    },
    {
      "cell_type": "code",
      "metadata": {
        "id": "ok4QT8SQ2Lkz",
        "colab_type": "code",
        "colab": {
          "base_uri": "https://localhost:8080/",
          "height": 35
        },
        "outputId": "722239c4-5b1c-44fd-bf93-484b70ced0eb"
      },
      "source": [
        "ridge = Ridge(normalize=True,alpha=0.01)\n",
        "ridge.fit(a,b)\n",
        "second_model = (mean_squared_error(y_true=b,y_pred=ridge.predict(a)))\n",
        "print(second_model)"
      ],
      "execution_count": 46,
      "outputs": [
        {
          "output_type": "stream",
          "text": [
            "46468820378.14546\n"
          ],
          "name": "stdout"
        }
      ]
    },
    {
      "cell_type": "markdown",
      "metadata": {
        "id": "kl-9khVA7pI9",
        "colab_type": "text"
      },
      "source": [
        "There is a slight decrease in model regression MSE of 46460610391.34634, to 46468820378.14546 when i apply ridge regression. "
      ]
    },
    {
      "cell_type": "code",
      "metadata": {
        "id": "Xn8Njiuf2Lt-",
        "colab_type": "code",
        "colab": {
          "base_uri": "https://localhost:8080/",
          "height": 301
        },
        "outputId": "eac87f56-3a53-4bbd-d227-f226ce1a192d"
      },
      "source": [
        "coef_dict_baseline = {}\n",
        "for coef, feat in zip(regression.coef_,a.columns):\n",
        "    coef_dict_baseline[feat] = coef\n",
        "coef_dict_baseline\n"
      ],
      "execution_count": 47,
      "outputs": [
        {
          "output_type": "execute_result",
          "data": {
            "text/plain": [
              "{'bathrooms': 54254.301620785496,\n",
              " 'bedrooms': -38559.55990427596,\n",
              " 'condition': 20587.34239472947,\n",
              " 'floors': 23575.676355759915,\n",
              " 'grade': 120306.82754660284,\n",
              " 'sqft_above': 50.7875822883434,\n",
              " 'sqft_basement': 56.94081201578501,\n",
              " 'sqft_living': 107.72839442994882,\n",
              " 'sqft_living15': 25.9401083375069,\n",
              " 'sqft_lot': -0.008042166358791292,\n",
              " 'sqft_lot15': -0.546122852472763,\n",
              " 'view': 43198.75661483357,\n",
              " 'waterfront': 581121.2837529618,\n",
              " 'yr_built': -3566.589192841477,\n",
              " 'yr_renovated': 9.824883610667655,\n",
              " 'zipcode': -12.097773746132248}"
            ]
          },
          "metadata": {
            "tags": []
          },
          "execution_count": 47
        }
      ]
    },
    {
      "cell_type": "markdown",
      "metadata": {
        "id": "urXEFq1Y3SkH",
        "colab_type": "text"
      },
      "source": [
        "Lasso Regression"
      ]
    },
    {
      "cell_type": "code",
      "metadata": {
        "id": "WPSSiLQf3XR3",
        "colab_type": "code",
        "colab": {}
      },
      "source": [
        "# Loading our libraries\n",
        "#\n",
        "from sklearn.linear_model import Lasso\n",
        "from sklearn.preprocessing import StandardScaler"
      ],
      "execution_count": 48,
      "outputs": []
    },
    {
      "cell_type": "code",
      "metadata": {
        "id": "ZQIifX1KLK9u",
        "colab_type": "code",
        "colab": {}
      },
      "source": [
        "m = house_df.drop(['price'], axis=1)\n",
        "n = house_df['price']"
      ],
      "execution_count": 49,
      "outputs": []
    },
    {
      "cell_type": "code",
      "metadata": {
        "id": "CS0x3cAL4rbF",
        "colab_type": "code",
        "colab": {}
      },
      "source": [
        "m_train, m_test, n_train, n_test = train_test_split(m, n, test_size = 0.2, random_state = 100)\n",
        "\n",
        "regressor = LinearRegression()\n",
        "regressor.fit(m,n)\n",
        "# Scaling data \n",
        "#\n",
        "scaler = StandardScaler()\n",
        "scaler.fit(m)\n",
        "X_= scaler.transform(m)"
      ],
      "execution_count": 50,
      "outputs": []
    },
    {
      "cell_type": "code",
      "metadata": {
        "id": "f2iF0DiR3kTW",
        "colab_type": "code",
        "colab": {
          "base_uri": "https://localhost:8080/",
          "height": 124
        },
        "outputId": "4d34df0f-e3f0-4462-bdb6-888e6f586c5c"
      },
      "source": [
        "# Creating lasso object\n",
        "# \n",
        "from sklearn import linear_model\n",
        "lasso = linear_model.Lasso() \n",
        "\n",
        "# Fitting the models\n",
        "# \n",
        "lasso.fit(m, n) \n",
        "\n",
        "# Print scores, MSE, and coefficients\n",
        "# \n",
        "print(\"lasso score:\", lasso.score(m, n)) \n",
        "print(\"lasso MSE:\", mean_squared_error(n, lasso.predict(m))) \n",
        "print(\"lasso coef:\", lasso.coef_) "
      ],
      "execution_count": 51,
      "outputs": [
        {
          "output_type": "stream",
          "text": [
            "lasso score: 0.6557641816609983\n",
            "lasso MSE: 46460610552.90048\n",
            "lasso coef: [-3.85584858e+04  5.42507759e+04  2.94338508e+02 -8.04996700e-03\n",
            "  2.35704747e+04  5.80968376e+05  4.32043680e+04  2.05845382e+04\n",
            "  1.20305240e+05 -1.35818025e+02 -1.29668017e+02 -3.56652930e+03\n",
            "  9.82750449e+00 -1.20882881e+01  2.59396133e+01 -5.46124517e-01]\n"
          ],
          "name": "stdout"
        }
      ]
    },
    {
      "cell_type": "code",
      "metadata": {
        "id": "fJ8s6Sx37_Iv",
        "colab_type": "code",
        "colab": {
          "base_uri": "https://localhost:8080/",
          "height": 248
        },
        "outputId": "9815f1b5-550d-4799-d19d-169364c241a2"
      },
      "source": [
        "# Splitting the data into training and test sets, building Lasso, \n",
        "# and choosing the regularization parameter with the help of GridSearch. \n",
        "# For that, we have to define the set of parameters for GridSearch. \n",
        "# In this case, a model with the highest R-squared score will give us the best parameters.\n",
        "# \n",
        "\n",
        "# Making necessary imports, split data into training and test sets, and choose a set of parameters \n",
        "from sklearn.model_selection import train_test_split\n",
        "from sklearn.model_selection import GridSearchCV\n",
        "import warnings\n",
        "warnings.filterwarnings(\"ignore\")\n",
        "\n",
        "m_train, m_test, n_train, n_test = train_test_split(m, n, test_size=0.25, random_state=101)\n",
        "parameters = {'alpha': np.concatenate((np.arange(0.1,2,0.1), np.arange(2, 5, 0.5), np.arange(5, 25, 1)))}\n",
        "\n",
        "linear = linear_model.LinearRegression()\n",
        "lasso = linear_model.Lasso() \n",
        "gridlasso = GridSearchCV(lasso, parameters, scoring ='r2') \n",
        "\n",
        "# Fitting models and print the best parameters, R-squared scores, MSE, and coefficients\n",
        "gridlasso.fit(m_train, n_train) \n",
        "linear.fit(m_train, n_train) \n",
        "print(\"lasso best parameters:\", gridlasso.best_params_) \n",
        "print(\"lasso score:\", gridlasso.score(m_test, n_test))\n",
        "print(\"linear score:\", linear.score(m_test, n_test)) \n",
        "print(\"lasso MSE:\", mean_squared_error(n_test, gridlasso.predict(m_test)))\n",
        "print(\"linear MSE:\", mean_squared_error(n_test, linear.predict(m_test))) \n",
        "print(\"lasso best estimator coef:\", gridlasso.best_estimator_.coef_)\n",
        "print(\"linear coef:\", linear.coef_)"
      ],
      "execution_count": 52,
      "outputs": [
        {
          "output_type": "stream",
          "text": [
            "lasso best parameters: {'alpha': 0.1}\n",
            "lasso score: 0.6626119130843948\n",
            "linear score: 0.6626122052069812\n",
            "lasso MSE: 45882083969.04955\n",
            "linear MSE: 45882044242.711975\n",
            "lasso best estimator coef: [-3.98548973e+04  5.29903736e+04  2.98477229e+02 -7.02957414e-03\n",
            "  2.77741225e+04  5.22445624e+05  4.47081460e+04  1.85918919e+04\n",
            "  1.20093405e+05 -1.38354635e+02 -1.25974660e+02 -3.58410790e+03\n",
            "  6.78669204e+00 -3.81665101e+01  2.19358310e+01 -5.38329800e-01]\n",
            "linear coef: [-3.98549996e+04  5.29907445e+04  1.10874862e+02 -7.02882733e-03\n",
            "  2.77746287e+04  5.22459587e+05  4.47075855e+04  1.85921641e+04\n",
            "  1.20093553e+05  4.92472899e+01  6.16275724e+01 -3.58411399e+03\n",
            "  6.78640651e+00 -3.81673981e+01  2.19358797e+01 -5.38329626e-01]\n"
          ],
          "name": "stdout"
        }
      ]
    },
    {
      "cell_type": "markdown",
      "metadata": {
        "id": "DrvwQflG2lM3",
        "colab_type": "text"
      },
      "source": [
        "The basemodel MSE is 46460610552.90048 and after applying lasso regression it has reduced to 45882083969.04955."
      ]
    },
    {
      "cell_type": "markdown",
      "metadata": {
        "id": "LSzA5UZ8WU3k",
        "colab_type": "text"
      },
      "source": [
        "In Lasso regression, if a group of predictors is highly correlated, lasso picks only one of them and shrinks the others to zero. \n",
        "This is a limitation that is taken care of in Elastic net Regression."
      ]
    },
    {
      "cell_type": "code",
      "metadata": {
        "id": "9n8VoER4Pvs9",
        "colab_type": "code",
        "colab": {
          "base_uri": "https://localhost:8080/",
          "height": 464
        },
        "outputId": "14b768e0-8a88-4609-85d1-ee97b19b4f0c"
      },
      "source": [
        "# Importing library for visualization\n",
        "#\n",
        "import matplotlib.pyplot as plt\n",
        "coefsLasso = [] \n",
        "\n",
        "# Building Lasso for 200 values of alpha and write the coefficients into array\n",
        "# \n",
        "alphasLasso = np.arange (0, 20, 0.1) \n",
        "for i in range(200):\n",
        "    lasso = linear_model.Lasso(alpha=alphasLasso[i])\n",
        "    lasso.fit(m_train, n_train)\n",
        "    coefsLasso.append(lasso.coef_) \n",
        "\n",
        "# Building Lasso coefficient plots\n",
        "# \n",
        "plt.figure(figsize = (16,7))\n",
        "\n",
        "plt.subplot(121)\n",
        "plt.plot(alphasLasso, coefsLasso)\n",
        "plt.title('Lasso coefficients')\n",
        "plt.xlabel('alpha')\n",
        "plt.ylabel('coefs')\n",
        "\n",
        "plt.show()"
      ],
      "execution_count": 53,
      "outputs": [
        {
          "output_type": "display_data",
          "data": {
            "image/png": "[encoded data removed]",
            "text/plain": [
              "<Figure size 1152x504 with 1 Axes>"
            ]
          },
          "metadata": {
            "tags": [],
            "needs_background": "light"
          }
        }
      ]
    },
    {
      "cell_type": "markdown",
      "metadata": {
        "id": "vcLDBiPZWlhn",
        "colab_type": "text"
      },
      "source": [
        "As we can see, Lasso influences less on the large coefficients,  the small ones Lasso reduces to zeroes. \n",
        "Therefore Lasso can also be used to determine which features are important \n",
        "to me and keeps the features that may influence the target variable"
      ]
    },
    {
      "cell_type": "markdown",
      "metadata": {
        "id": "fKPv_HzY99Qk",
        "colab_type": "text"
      },
      "source": [
        "Elastic net regression"
      ]
    },
    {
      "cell_type": "markdown",
      "metadata": {
        "id": "yDg0qelRXc82",
        "colab_type": "text"
      },
      "source": [
        "Some advantages of this regression is that,On top of the least-squares method, it introduces a penalty on regression coefficients which is a convex combination of lasso and ridge penalty.\n",
        "It encourages group effect in case of highly correlated variables. \n",
        "There are no limitations on the number of selected variables."
      ]
    },
    {
      "cell_type": "code",
      "metadata": {
        "id": "3ztJXawrA4wC",
        "colab_type": "code",
        "colab": {}
      },
      "source": [
        "p = house_df.drop(['price'], axis=1)\n",
        "q = house_df['price']"
      ],
      "execution_count": 54,
      "outputs": []
    },
    {
      "cell_type": "code",
      "metadata": {
        "id": "VtbCCh273kfp",
        "colab_type": "code",
        "colab": {
          "base_uri": "https://localhost:8080/",
          "height": 35
        },
        "outputId": "c62baa5b-5e39-4309-a84a-832e471ba5af"
      },
      "source": [
        "# Creating our linear regression model for the purpose of comparison\n",
        "# \n",
        "regression=LinearRegression()\n",
        "regression.fit(p,q)\n",
        "first_model=(mean_squared_error(y_true=q,y_pred=regression.predict(p)))\n",
        "print(first_model) \n",
        "\n",
        "# This mean standard error score of 46460610391 is our benchmark for determining \n",
        "# if the elastic net model will be better or worst. "
      ],
      "execution_count": 55,
      "outputs": [
        {
          "output_type": "stream",
          "text": [
            "46460610391.34634\n"
          ],
          "name": "stdout"
        }
      ]
    },
    {
      "cell_type": "code",
      "metadata": {
        "id": "0GZhU2oWBXL7",
        "colab_type": "code",
        "colab": {
          "base_uri": "https://localhost:8080/",
          "height": 301
        },
        "outputId": "ae85cd33-bcba-4e7c-fcb2-340d96349458"
      },
      "source": [
        "# Below are the coefficients of this first model. We use a for loop to go through \n",
        "# the model and the zip function to combine the two columns.\n",
        "# \n",
        "coef_dict_baseline = {}\n",
        "for coef, feat in zip(regression.coef_,p.columns):\n",
        "    coef_dict_baseline[feat] = coef\n",
        "coef_dict_baseline"
      ],
      "execution_count": 56,
      "outputs": [
        {
          "output_type": "execute_result",
          "data": {
            "text/plain": [
              "{'bathrooms': 54254.301620785496,\n",
              " 'bedrooms': -38559.55990427596,\n",
              " 'condition': 20587.34239472947,\n",
              " 'floors': 23575.676355759915,\n",
              " 'grade': 120306.82754660284,\n",
              " 'sqft_above': 50.7875822883434,\n",
              " 'sqft_basement': 56.94081201578501,\n",
              " 'sqft_living': 107.72839442994882,\n",
              " 'sqft_living15': 25.9401083375069,\n",
              " 'sqft_lot': -0.008042166358791292,\n",
              " 'sqft_lot15': -0.546122852472763,\n",
              " 'view': 43198.75661483357,\n",
              " 'waterfront': 581121.2837529618,\n",
              " 'yr_built': -3566.589192841477,\n",
              " 'yr_renovated': 9.824883610667655,\n",
              " 'zipcode': -12.097773746132248}"
            ]
          },
          "metadata": {
            "tags": []
          },
          "execution_count": 56
        }
      ]
    },
    {
      "cell_type": "code",
      "metadata": {
        "id": "mipEUf6eBgkP",
        "colab_type": "code",
        "colab": {}
      },
      "source": [
        "# Elastic Net Model\n",
        "# Elastic net, just like ridge and lasso regression, requires normalize data. \n",
        "# This argument  is set inside the ElasticNet function. \n",
        "# The second thing we need to do is create our grid.\n",
        "# \n",
        "from sklearn.linear_model import ElasticNet\n",
        "elastic=ElasticNet(normalize=True)\n",
        "search=GridSearchCV(estimator=elastic,param_grid={'alpha':np.logspace(-5,2,8),'l1_ratio':[.2,.4,.6,.8]},scoring='neg_mean_squared_error',n_jobs=1,refit=True,cv=10)"
      ],
      "execution_count": 57,
      "outputs": []
    },
    {
      "cell_type": "code",
      "metadata": {
        "id": "84vHneBTBg2s",
        "colab_type": "code",
        "colab": {
          "base_uri": "https://localhost:8080/",
          "height": 35
        },
        "outputId": "3f76852a-5b17-42df-9756-29db7704ca8c"
      },
      "source": [
        "# We will now fit our model and display the best parameters and the best results we can get with that setup.\n",
        "# \n",
        "search.fit(p,q)\n",
        "search.best_params_\n",
        "abs(search.best_score_)"
      ],
      "execution_count": 58,
      "outputs": [
        {
          "output_type": "execute_result",
          "data": {
            "text/plain": [
              "47186242146.97204"
            ]
          },
          "metadata": {
            "tags": []
          },
          "execution_count": 58
        }
      ]
    },
    {
      "cell_type": "markdown",
      "metadata": {
        "id": "Vb9YGXbpgGH7",
        "colab_type": "text"
      },
      "source": [
        "This shows that my base model MSE is lower than the best score by Elastic net regression."
      ]
    },
    {
      "cell_type": "code",
      "metadata": {
        "id": "GfxrcL3sBhDP",
        "colab_type": "code",
        "colab": {
          "base_uri": "https://localhost:8080/",
          "height": 35
        },
        "outputId": "a7f8a0b1-5e53-4d39-fff4-0a28b288e6b1"
      },
      "source": [
        "# The best hyperparameters was an alpha set to 0.00001 and a l1_ratio of 0.75 \n",
        "# With these settings we got an MSE of 46649614670.61419 This is above our baseline model of MSE 46460610391.34634  for the baseline model. \n",
        "# Which means that elastic net is doing worse than linear regression. \n",
        "# For clarity, we will set our hyperparameters to the recommended values and run on the data.\n",
        "# \n",
        "elastic=ElasticNet(normalize=True,alpha=0.00001,l1_ratio=0.75)\n",
        "elastic.fit(p,q)\n",
        "second_model=(mean_squared_error(y_true=q,y_pred=elastic.predict(p)))\n",
        "print(second_model)"
      ],
      "execution_count": 63,
      "outputs": [
        {
          "output_type": "stream",
          "text": [
            "46649614670.61419\n"
          ],
          "name": "stdout"
        }
      ]
    },
    {
      "cell_type": "code",
      "metadata": {
        "id": "5k-uVeQzBhHI",
        "colab_type": "code",
        "colab": {
          "base_uri": "https://localhost:8080/",
          "height": 301
        },
        "outputId": "0a6356c4-af6f-41aa-8ac2-399da8b34eaa"
      },
      "source": [
        "# Below are the coefficients\n",
        "# \n",
        "coef_dict_baseline = {}\n",
        "for coef, feat in zip(elastic.coef_,p.columns):\n",
        "    coef_dict_baseline[feat] = coef\n",
        "coef_dict_baseline\n",
        "\n",
        "# The coefficients are mostly the similar to the base model.\n",
        "# This means that this values was no good to the algorithm. Traditional regression cannot do this."
      ],
      "execution_count": 60,
      "outputs": [
        {
          "output_type": "execute_result",
          "data": {
            "text/plain": [
              "{'bathrooms': 24351.921020953523,\n",
              " 'bedrooms': 9220.763173027737,\n",
              " 'condition': 5752.311541898482,\n",
              " 'floors': 12232.791024181248,\n",
              " 'grade': 22568.802846839957,\n",
              " 'sqft_above': 26.92589996584545,\n",
              " 'sqft_basement': 30.670710808867863,\n",
              " 'sqft_living': 29.010266207883397,\n",
              " 'sqft_living15': 31.405755737391164,\n",
              " 'sqft_lot': 0.05223262038177858,\n",
              " 'sqft_lot15': 0.053108489228106175,\n",
              " 'view': 21999.48169148306,\n",
              " 'waterfront': 143676.13729181586,\n",
              " 'yr_built': -129.09805932996605,\n",
              " 'yr_renovated': 14.946801729789765,\n",
              " 'zipcode': 9.62369770825078}"
            ]
          },
          "metadata": {
            "tags": []
          },
          "execution_count": 60
        }
      ]
    },
    {
      "cell_type": "markdown",
      "metadata": {
        "id": "SYH1vHhdgbk4",
        "colab_type": "text"
      },
      "source": [
        "One limitation of elastic net regression is tht it can suffer from double shrinkage, which leads to increased bias and poor predictions. "
      ]
    },
    {
      "cell_type": "markdown",
      "metadata": {
        "id": "5ig3pn8jhNaO",
        "colab_type": "text"
      },
      "source": [
        "#Challenging my solution\n",
        "\n",
        "1.The bathrooms and floors had float type datatypes, i did not change these data types.I understand from my glossary that bathrooms - Number of bathrooms, where 0.5 accounts for a room with a toilet but no shower\n",
        "\n",
        "\n",
        "2.With these regression models, i am getting very  huge Mean squared error values,this is because i did not remove outliers and some regression like ridge regression assume constant variance which means no outliers.\n",
        "Other optimization methods such as Random Forest may work better for this project."
      ]
    },
    {
      "cell_type": "markdown",
      "metadata": {
        "id": "yoJOsxJ73XgP",
        "colab_type": "text"
      },
      "source": [
        "#Conclusion"
      ]
    },
    {
      "cell_type": "markdown",
      "metadata": {
        "id": "BFU8ujAz3hDG",
        "colab_type": "text"
      },
      "source": [
        "From the results  i can see that lasso and Quantile regression perform a bit better in terms of MSEs, in order to get best results other  optimazation  methods like Random Forest could be better.Regression models have alot of limitations."
      ]
    }
  ]
}